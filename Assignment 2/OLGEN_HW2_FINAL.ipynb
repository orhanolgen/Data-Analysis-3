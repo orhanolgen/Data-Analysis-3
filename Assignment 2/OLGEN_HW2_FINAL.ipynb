{
  "metadata": {
    "kernelspec": {
      "name": "python",
      "display_name": "Python (Pyodide)",
      "language": "python"
    },
    "language_info": {
      "codemirror_mode": {
        "name": "python",
        "version": 3
      },
      "file_extension": ".py",
      "mimetype": "text/x-python",
      "name": "python",
      "nbconvert_exporter": "python",
      "pygments_lexer": "ipython3",
      "version": "3.8"
    },
    "colab": {
      "provenance": []
    }
  },
  "nbformat_minor": 4,
  "nbformat": 4,
  "cells": [
    {
      "cell_type": "markdown",
      "source": "**ORHAN OLGEN**\n\n**Prediction with Machine Learning for Economist**\n\n**Assignment 2**",
      "metadata": {
        "id": "0bESM88H4BWy"
      }
    },
    {
      "cell_type": "code",
      "source": "import pandas as pd\nimport numpy as np\nimport matplotlib.pyplot as plt\nimport warnings\nwarnings.simplefilter('ignore')\nfrom math import radians, sin, cos, sqrt, atan2\nimport statsmodels.api as sm\nfrom sklearn.model_selection import train_test_split\nfrom sklearn.metrics import r2_score, mean_squared_error\nfrom statsmodels.iolib.summary2 import summary_col\nfrom sklearn.linear_model import LassoCV\nfrom sklearn.linear_model import LinearRegression\nfrom sklearn.preprocessing import StandardScaler\nfrom sklearn.pipeline import Pipeline\nfrom sklearn.ensemble import RandomForestRegressor\n#pip install xgboost\nimport xgboost as xgb\n#!pip install lightgbm\nimport lightgbm as lgb\nimport time",
      "metadata": {
        "id": "eH88DK0I37qU",
        "trusted": true
      },
      "outputs": [],
      "execution_count": null
    },
    {
      "cell_type": "markdown",
      "source": "\nIn this project, we analyze the Airbnb dataset for Lisbon and Porto, containing over 24k rows. We will build and compare five predictive models, evaluating their fit, time, and feature importance. We will also validate the models by testing them on another dataset from Lisbon and Porto. Let's start by importing the Lisbon dataset for analysis.",
      "metadata": {
        "id": "K3kzWyGUg8l2"
      }
    },
    {
      "cell_type": "code",
      "source": "airbnb=pd.read_csv('listings-earlier.csv')\nprint(airbnb.shape)\nairbnb.head()\nairbnb.columns",
      "metadata": {
        "colab": {
          "base_uri": "https://localhost:8080/"
        },
        "id": "_E28RU9Hg73B",
        "outputId": "24fd6384-1b10-493d-8392-0646e522fe15",
        "trusted": true
      },
      "outputs": [],
      "execution_count": null
    },
    {
      "cell_type": "code",
      "source": "airbnb['host_listings_count']",
      "metadata": {
        "colab": {
          "base_uri": "https://localhost:8080/",
          "height": 458
        },
        "id": "HJWhgG32DXrG",
        "outputId": "aeb0dd4d-c4b3-4b7b-df34-c0823d68054a",
        "trusted": true
      },
      "outputs": [],
      "execution_count": null
    },
    {
      "cell_type": "markdown",
      "source": "The dataset contains 75 variables, but not all are necessary for our price model analysis. Therefore, I will drop irrelevant variables and retain only the most important ones for the next stage.",
      "metadata": {
        "id": "Zl6JQvD-mOmb"
      }
    },
    {
      "cell_type": "markdown",
      "source": "# **Part 1. Modelling**",
      "metadata": {
        "id": "kyMfBXx9mvrW"
      }
    },
    {
      "cell_type": "markdown",
      "source": "# 1.1 Data Wrangling\n\nI’ve selected the following key variables for the pricing model: Room type, Latitude, Longitude, Accommodation, Bedrooms, Host listings, Max/Min Nights, Reviews, Review Score, and Price (target). Let’s keep these variables and explore their types.",
      "metadata": {
        "id": "6E82S9XnnB1w"
      }
    },
    {
      "cell_type": "code",
      "source": "# Select only the variables of interest\nselected_columns = [\n    'room_type',\n    'latitude',\n    'longitude',\n    'accommodates',\n    'bedrooms',\n    'host_total_listings_count',\n    'maximum_nights',\n    'minimum_nights',\n    'number_of_reviews',\n    'review_scores_rating',\n    'price'\n]\n\n# Create new dataframe with only selected variables\nselected_df = airbnb[selected_columns].copy()\nprint(selected_df.shape)\nprint(selected_df.dtypes)\nselected_df.head()",
      "metadata": {
        "colab": {
          "base_uri": "https://localhost:8080/",
          "height": 538
        },
        "id": "Fhtv0kGAlhu0",
        "outputId": "0e257d75-3123-45f3-a40f-d103cc2ac1ed",
        "trusted": true
      },
      "outputs": [],
      "execution_count": null
    },
    {
      "cell_type": "markdown",
      "source": "\nThe target variable `price` is currently an object due to the dollar sign (e.g., $105.00). I will convert it to a float and remove any observations with missing values for smoother analysis.",
      "metadata": {
        "id": "SsTc9JEXsT-L"
      }
    },
    {
      "cell_type": "code",
      "source": "# Convert price column to float\nselected_df['price'] = (\n    selected_df['price']\n    .astype(str)  # ensure everything is treated as string\n    .str.replace('[\\$,]', '', regex=True)  # Remove both $ and commas\n    .astype(float)\n)\n\nprint(selected_df['price'].head())\n\n# Drop rows with missing prices\nselected_df = selected_df.dropna(subset=['price'])\nprint(\"\\nMissing values after cleaning:\", selected_df['price'].isnull().sum())",
      "metadata": {
        "colab": {
          "base_uri": "https://localhost:8080/"
        },
        "id": "YiQ6Yl83p5KN",
        "outputId": "c75878ed-5faf-4ffe-b074-a4877178fde1",
        "trusted": true
      },
      "outputs": [],
      "execution_count": null
    },
    {
      "cell_type": "markdown",
      "source": "\nSince `room_type` contains values like 'Entire home/apt', we will convert it into a categorical variable for smoother analysis. Let's proceed with this transformation.",
      "metadata": {
        "id": "uMy-di4swD6L"
      }
    },
    {
      "cell_type": "code",
      "source": "# First, let's examine the current values\nprint(\"Current room_type values:\")\nprint(selected_df['room_type'].value_counts())",
      "metadata": {
        "colab": {
          "base_uri": "https://localhost:8080/"
        },
        "id": "9whNnaoSwzI0",
        "outputId": "13553c5f-2146-4389-fbf2-58f38214d87b",
        "trusted": true
      },
      "outputs": [],
      "execution_count": null
    },
    {
      "cell_type": "markdown",
      "source": "`room_type` has four unique values. We'll standardize the text by converting to lowercase and removing special characters",
      "metadata": {
        "id": "kNzNSqPLw2UD"
      }
    },
    {
      "cell_type": "code",
      "source": "# Clean the room_type strings\nselected_df['room_type'] = (\n    selected_df['room_type']\n    .str.strip()\n    .str.lower()\n    .str.replace(r'[\\/\\s]', '_', regex=True)\n)\n\n# Create dummy variables\ndummies = pd.get_dummies(\n    selected_df['room_type'],\n    prefix='room',\n    drop_first=False\n)\n\n# Join with original data\nselected_df = pd.concat([selected_df, dummies], axis=1)\nprint(selected_df.filter(like='room_').head())\nselected_df.head()\n#print(selected_df.shape)",
      "metadata": {
        "colab": {
          "base_uri": "https://localhost:8080/",
          "height": 451
        },
        "id": "gYmOaqe2tVv2",
        "outputId": "02878dbc-7cb2-40a7-f10a-15d1265ead43",
        "trusted": true
      },
      "outputs": [],
      "execution_count": null
    },
    {
      "cell_type": "markdown",
      "source": "Here, we analyze Airbnb listings in Lisbon by calculating the distance from the city center (Praça do Comércio) using the Haversine formula. This helps identify location patterns, which are important for our later modeling analysis. The coordinates for Praça do Comércio were sourced from Google.",
      "metadata": {
        "id": "8JbNRUKQzxVa"
      }
    },
    {
      "cell_type": "code",
      "source": "# centre point for refrence to caluate the distance later\nCENTER_LAT = 38.7223  # latitude\nCENTER_LON = -9.1393  # longitude\n\n# clean coordinate columns\nselected_df['latitude'] = (\n    selected_df['latitude']\n    .astype(str)\n    .str.replace('[^0-9.-]', '', regex=True)  # Remove non-numeric chars\n    .replace('', np.nan)\n    .astype(float)\n)\n\nselected_df['longitude'] = (\n    selected_df['longitude']\n    .astype(str)\n    .str.replace('[^0-9.-]', '', regex=True)\n    .replace('', np.nan)\n    .astype(float)\n)\n\n# drop rows with invalid coordinates\nprint(f\"Before cleaning: {len(selected_df)} rows\")\nselected_df = selected_df.dropna(subset=['latitude', 'longitude'])\nprint(f\"After cleaning: {len(selected_df)} rows\")\n\ndef haversine_distance(lat1, lon1, lat2, lon2):\n    \"\"\"Calculate distance between two points in kilometers\"\"\"\n    R = 6371  # Earth radius in km\n\n    lat1, lon1, lat2, lon2 = map(radians, [lat1, lon1, lat2, lon2])\n    dlat = lat2 - lat1\n    dlon = lon2 - lon1\n\n    a = sin(dlat/2)**2 + cos(lat1) * cos(lat2) * sin(dlon/2)**2\n    c = 2 * atan2(sqrt(a), sqrt(1-a))\n\n    return R * c\n\n# create new distance column\nselected_df['distance_to_center'] = selected_df.apply(\n    lambda row: haversine_distance(\n        row['latitude'],\n        row['longitude'],\n        CENTER_LAT,\n        CENTER_LON\n    ),\n    axis=1\n)\n\n# Verify results\nprint(\"\\nDistance statistics (km):\")\nprint(selected_df['distance_to_center'].describe())\n\n",
      "metadata": {
        "colab": {
          "base_uri": "https://localhost:8080/",
          "height": 760
        },
        "id": "WmbbG84-yNjB",
        "outputId": "a94c81ff-55de-40ef-ce10-ac0c81b2acc9",
        "trusted": true
      },
      "outputs": [],
      "execution_count": null
    },
    {
      "cell_type": "markdown",
      "source": "\nWe plan to bin `accommodates` and `bedrooms` to simplify these continuous variables into meaningful categories, making patterns easier to detect. Binning reduces the impact of outliers and improves model interpretability. First, let's check the maximum and minimum values for both variables.\n",
      "metadata": {
        "id": "kifXNc-j3y8t"
      }
    },
    {
      "cell_type": "code",
      "source": "print(selected_df['accommodates'].value_counts())\nprint(selected_df['bedrooms'].value_counts())\nselected_df['accommodates'].agg(['min', 'max'])\nselected_df['bedrooms'].agg(['min', 'max'])",
      "metadata": {
        "colab": {
          "base_uri": "https://localhost:8080/",
          "height": 685
        },
        "id": "JiMn3mkq2M6L",
        "outputId": "9d7909ac-e78a-4c50-c25e-d7b7178b0a25",
        "trusted": true
      },
      "outputs": [],
      "execution_count": null
    },
    {
      "cell_type": "code",
      "source": "# binning for variable: accomodation\nselected_df['accommodates_bin'] = pd.cut(selected_df['accommodates'], bins=[0, 2, 4, 6, 9, 20], labels=False)\nselected_df['bedrooms_bin'] = pd.cut(selected_df['bedrooms'], bins=[0, 1, 2, 3, 4, 16], labels=False)\nselected_df.head()",
      "metadata": {
        "colab": {
          "base_uri": "https://localhost:8080/",
          "height": 226
        },
        "id": "UK41BeFO7O37",
        "outputId": "7509de7f-d7cb-44c4-f56b-2df22e0ed6d3",
        "trusted": true
      },
      "outputs": [],
      "execution_count": null
    },
    {
      "cell_type": "markdown",
      "source": "\n\nWe’ll include `host_listings_count` to capture differences between individual and professional hosts. Hosts with more listings may have different pricing strategies or offer more consistent quality. Let's first check the unique observations to clean the data for modeling.",
      "metadata": {
        "id": "d21xPYpJBIWM"
      }
    },
    {
      "cell_type": "code",
      "source": "print(selected_df['host_total_listings_count'].value_counts())\nselected_df['host_total_listings_count'].unique()\nselected_df['host_total_listings_count'].agg(['min', 'max'])",
      "metadata": {
        "colab": {
          "base_uri": "https://localhost:8080/",
          "height": 372
        },
        "id": "6dNGnN-BAKx5",
        "outputId": "89f1eebf-3643-4cdf-bc80-51c14c8495b9",
        "trusted": true
      },
      "outputs": [],
      "execution_count": null
    },
    {
      "cell_type": "code",
      "source": "# creating bins\nselected_df['host_scale'] = pd.cut(selected_df['host_total_listings_count'], bins=[0, 1, 5, 10, 1149], labels=False)",
      "metadata": {
        "id": "FZGaue_Ztf26",
        "trusted": true
      },
      "outputs": [],
      "execution_count": null
    },
    {
      "cell_type": "markdown",
      "source": "\nWe’ll use binning for `minimum_nights` and `maximum_nights` to reduce complexity and outliers. Binning groups listings into categories like short-term or long-term stays, making patterns clearer and improving model performance.",
      "metadata": {
        "id": "8Zuh4W7XGSwr"
      }
    },
    {
      "cell_type": "code",
      "source": "print(selected_df['maximum_nights'].value_counts())\nselected_df['maximum_nights'].unique()\nselected_df['maximum_nights'].agg(['min', 'max'])",
      "metadata": {
        "colab": {
          "base_uri": "https://localhost:8080/",
          "height": 372
        },
        "id": "vD5ov705FpoM",
        "outputId": "40c7ae20-7edb-487b-feea-0b11bebf26a2",
        "trusted": true
      },
      "outputs": [],
      "execution_count": null
    },
    {
      "cell_type": "code",
      "source": "print(selected_df['minimum_nights'].value_counts())\nselected_df['minimum_nights'].unique()\nselected_df['minimum_nights'].agg(['min', 'max'])",
      "metadata": {
        "colab": {
          "base_uri": "https://localhost:8080/",
          "height": 372
        },
        "id": "bc60jgsCGlb2",
        "outputId": "eda64d7c-26b3-40be-9874-4e969aff996a",
        "trusted": true
      },
      "outputs": [],
      "execution_count": null
    },
    {
      "cell_type": "code",
      "source": "#creating bins for both\nselected_df['min_nights_bin'] = pd.cut(selected_df['minimum_nights'], bins=[0, 3, 7, 30, 701], labels=False)\nselected_df['max_nights_bin'] = pd.cut(selected_df['maximum_nights'], bins=[0, 7, 30, 100, 10000], labels=False)\nselected_df.head()",
      "metadata": {
        "colab": {
          "base_uri": "https://localhost:8080/",
          "height": 255
        },
        "id": "PAB_tOAYGyBd",
        "outputId": "ac674b63-2537-4abf-c0d0-848e5efe015e",
        "trusted": true
      },
      "outputs": [],
      "execution_count": null
    },
    {
      "cell_type": "markdown",
      "source": "\n\nReview Number and Review Score Rating",
      "metadata": {
        "id": "O0sVpYSiIbti"
      }
    },
    {
      "cell_type": "code",
      "source": "print(selected_df['number_of_reviews'].value_counts())\nselected_df['number_of_reviews'].unique()\nselected_df['number_of_reviews'].agg(['min', 'max'])",
      "metadata": {
        "colab": {
          "base_uri": "https://localhost:8080/",
          "height": 372
        },
        "id": "E_G6B6n5HxBs",
        "outputId": "5934d0b6-c3b0-4cfe-f6c3-4c1fd6835cd4",
        "trusted": true
      },
      "outputs": [],
      "execution_count": null
    },
    {
      "cell_type": "code",
      "source": "print(selected_df['review_scores_rating'].value_counts())\nselected_df['review_scores_rating'].unique()\nselected_df['review_scores_rating'].agg(['min', 'max'])",
      "metadata": {
        "colab": {
          "base_uri": "https://localhost:8080/",
          "height": 372
        },
        "id": "xSR5FSL3I0Xf",
        "outputId": "3228f6b7-1e8c-4843-925e-bda7f0c2f36f",
        "trusted": true
      },
      "outputs": [],
      "execution_count": null
    },
    {
      "cell_type": "markdown",
      "source": "The highest review rating is 5.0, and the lowest is 0. We will drop observations with `nan` values. For `number_of_reviews`, we’ll bin it to group listings by popularity and experience level, reducing outliers and simplifying model interpretation. Let's proceed with the code.",
      "metadata": {
        "id": "iYu2Lvy0JCzb"
      }
    },
    {
      "cell_type": "code",
      "source": "# Drop rows where review_scores_rating is missing\nselected_df = selected_df.dropna(subset=['number_of_reviews'])\nselected_df['review_number'] = pd.cut(selected_df['number_of_reviews'], bins=[0, 100, 200, 300 , 400, 500, 600, 2612], labels=False)\nselected_df.head()",
      "metadata": {
        "colab": {
          "base_uri": "https://localhost:8080/",
          "height": 255
        },
        "id": "zNVqg2l8JAel",
        "outputId": "9b8ffd37-7b2a-402d-cfde-875e5766e727",
        "trusted": true
      },
      "outputs": [],
      "execution_count": null
    },
    {
      "cell_type": "markdown",
      "source": "#**1.2.1 Model: OLS**",
      "metadata": {
        "id": "0a0_c33GKrEr"
      }
    },
    {
      "cell_type": "markdown",
      "source": "We built and compared three OLS regression models. The basic model includes distance to the city center, review score, and number of bedrooms. We gradually added more variables like accommodates, nights, number of reviews, and host listing count. The models are displayed side by side using `summary_col` for comparison.",
      "metadata": {
        "id": "spNgpFH9ZL_7"
      }
    },
    {
      "cell_type": "code",
      "source": "# Features and Target\nX = selected_df.drop('price', axis=1)\ny = selected_df['price']\n\n# Keep only numeric variables\nX = X.select_dtypes(include=[np.number])\n\n# Filter to Drop NaNs for Required Columns\nrequired_cols = [\n    'distance_to_center', 'review_scores_rating', 'bedrooms_bin',\n    'accommodates_bin', 'min_nights_bin', 'max_nights_bin', 'host_scale', 'review_number'\n]\n\nvalid_index = X[required_cols].dropna().index.intersection(y.dropna().index)\nX = X.loc[valid_index]\ny = y.loc[valid_index]\n\n# Add constant for OLS intercept\nX = sm.add_constant(X)\n\n# Train/Test Split\nX_train, X_test, y_train, y_test = train_test_split(X, y, test_size=0.2, random_state=42)\n\n# Define Variables for Each Model\nmodel1_vars = ['const', 'distance_to_center', 'review_scores_rating', 'bedrooms_bin']\nmodel2_vars = model1_vars + ['accommodates_bin', 'max_nights_bin', 'min_nights_bin']\nmodel3_vars = model2_vars + ['host_scale', 'review_number']\n\n# Step 6: Fit the Models\nmodel1 = sm.OLS(y_train, X_train[model1_vars]).fit()\nmodel2 = sm.OLS(y_train, X_train[model2_vars]).fit()\nmodel3 = sm.OLS(y_train, X_train[model3_vars]).fit()\n\n# Display Model Comparison Table\nsummary = summary_col(\n    results=[model1, model2, model3],\n    float_format='%0.3f',\n    stars=True,\n    model_names=['Model 1', 'Model 2', 'Model 3'],\n    info_dict={\n        'R-squared': lambda x: f\"{x.rsquared:.3f}\",\n        'Adj. R-squared': lambda x: f\"{x.rsquared_adj:.3f}\",\n        'BIC': lambda x: f\"{x.bic:.0f}\",\n        'Observations': lambda x: f\"{int(x.nobs)}\"\n    }\n)\n\nprint(summary)\n#selected_df",
      "metadata": {
        "colab": {
          "base_uri": "https://localhost:8080/",
          "height": 981
        },
        "id": "DjzuP2wiq29Q",
        "outputId": "322b1e63-492a-4716-eefd-d3f61d9d6e95",
        "trusted": true
      },
      "outputs": [],
      "execution_count": null
    },
    {
      "cell_type": "markdown",
      "source": "**Basic Interpretation**\n\nModel fit improves slightly with each added variable, with R² increasing from 0.033 (Model 1) to 0.037 (Model 3). Distance to the center has no effect, while `bedrooms_bin` strongly influences price. In Models 2 and 3, `accommodates_bin` and `min_nights_bin` are significant, suggesting capacity and stay duration impact pricing. Model 3 also shows that hosts with more listings and fewer reviews tend to charge higher prices. Despite these findings, the models explain only a small portion of price variation, with Model 3 performing best.",
      "metadata": {
        "id": "CT-0q2K-Zi1p"
      }
    },
    {
      "cell_type": "markdown",
      "source": "#**1.2.2 Model: LASSO**",
      "metadata": {
        "id": "j7ahrDBTZ5vv"
      }
    },
    {
      "cell_type": "markdown",
      "source": "We use `LassoCV` with cross-validation to select the best regularization strength and `StandardScaler` to scale features. After fitting the model, we print the selected alpha and coefficients, then evaluate performance on the test set using R² and RMSE.",
      "metadata": {
        "id": "2Sc5of7VchT-"
      }
    },
    {
      "cell_type": "code",
      "source": "# Drop rows with NaNs\nvalid_index = X.dropna().index.intersection(y.dropna().index)\nX = X.loc[valid_index]\ny = y.loc[valid_index]\n\n# Train/Test Split\nX_train, X_test, y_train, y_test = train_test_split(X, y, test_size=0.2, random_state=42)",
      "metadata": {
        "id": "VcC73wGjiDyq",
        "trusted": true
      },
      "outputs": [],
      "execution_count": null
    },
    {
      "cell_type": "code",
      "source": "\n# Build LASSO Pipeline\nlasso_pipeline = Pipeline([\n    ('scaler', StandardScaler()),\n    ('lasso', LassoCV(cv=5, random_state=42))\n])\n\n# Fit LASSO\nlasso_pipeline.fit(X_train, y_train)\n\n# Get Best Alpha and Coefficients\nbest_alpha = lasso_pipeline.named_steps['lasso'].alpha_\nlasso_coefficients = lasso_pipeline.named_steps['lasso'].coef_\n\nprint(f\"Best alpha (lambda): {best_alpha:.4f}\")\nprint(\"\\nLASSO Coefficients:\")\nfor feature, coef in zip(X.columns, lasso_coefficients):\n    print(f\"{feature}: {coef:.4f}\")\n\n# Evaluate Model\ny_pred = lasso_pipeline.predict(X_test)\nr2 = r2_score(y_test, y_pred)\nrmse = np.sqrt(mean_squared_error(y_test, y_pred))\n\nprint(f\"\\nTest R²: {r2:.4f}\")\nprint(f\"Test RMSE: {rmse:.2f}\")",
      "metadata": {
        "colab": {
          "base_uri": "https://localhost:8080/"
        },
        "id": "MJXZQiJpVoIn",
        "outputId": "d09d4b26-46e9-4506-fb9b-81cf695a1b79",
        "trusted": true
      },
      "outputs": [],
      "execution_count": null
    },
    {
      "cell_type": "markdown",
      "source": "**Basic Interpretation**\n\nThe RMSE of 107.16 indicates accurate predictions. LASSO set several coefficients to zero, showing little predictive value. Key predictors included `accommodates`, `bedrooms`, and `minimum_nights`.\n",
      "metadata": {
        "id": "qIFPe_cSbvOX"
      }
    },
    {
      "cell_type": "markdown",
      "source": "#**1.2.3 Model: Random Forest**",
      "metadata": {
        "id": "wM0Z-EPxcNF1"
      }
    },
    {
      "cell_type": "markdown",
      "source": "In this part, we trained a Random Forest regression model to predict Airbnb prices using all numeric features. We split the data into training and test sets, fit the model, and evaluated its performance using R² and RMSE. We also extracted and ranked feature importances to understand which variables contributed most to the model's predictions. This helps interpret the model and compare it with previous approaches like OLS and LASSO.",
      "metadata": {
        "id": "Jkkfh4fhdpt0"
      }
    },
    {
      "cell_type": "code",
      "source": "# Select Relevant Features\nselected_features = [\n    'distance_to_center', 'review_scores_rating', 'bedrooms_bin',\n    'accommodates_bin', 'min_nights_bin', 'max_nights_bin',\n    'host_scale', 'review_number'\n]\n\nX = selected_df[selected_features]\ny = selected_df['price']\n# Drop NaNs and Split Data\nvalid_index = X.dropna().index.intersection(y.dropna().index)\nX = X.loc[valid_index]\ny = y.loc[valid_index]\n\nX_train, X_test, y_train, y_test = train_test_split(X, y, test_size=0.2, random_state=42)\n\n# Train Random Forest\nrf_model = RandomForestRegressor(n_estimators=100, random_state=42)\nrf_model.fit(X_train, y_train)\n\n# Predict and Evaluate\ny_pred = rf_model.predict(X_test)\nr2 = r2_score(y_test, y_pred)\nrmse = np.sqrt(mean_squared_error(y_test, y_pred))\n\nprint(f\"Random Forest Test R²: {r2:.4f}\")\nprint(f\"Random Forest Test RMSE: {rmse:.2f}\")\n\n# Show Feature Importances\nimportance_df = pd.DataFrame({\n    'Feature': X.columns,\n    'Importance': rf_model.feature_importances_\n}).sort_values(by='Importance', ascending=False)\n\nprint(\"\\nTop Features by Importance:\")\nprint(importance_df.head(10))",
      "metadata": {
        "colab": {
          "base_uri": "https://localhost:8080/"
        },
        "id": "JSVBv7rJ2Q-8",
        "outputId": "d417666c-4f88-41f6-f420-23c3f9f393dd",
        "trusted": true
      },
      "outputs": [],
      "execution_count": null
    },
    {
      "cell_type": "markdown",
      "source": "**Basic Intepretation**\n\nThe Random Forest model has a Test R² of -1.12, indicating poor predictions. The high RMSE of 177 confirms this. Distance_to_center was the most important feature, contributing 69%, while `accommodates_bin`, `number_of_reviews`, and `bedrooms_bin` had less impact. The negative R² suggests overfitting or issues with the binned data.",
      "metadata": {
        "id": "SwJlvDVldyN4"
      }
    },
    {
      "cell_type": "markdown",
      "source": "#**1.2.4 Model: XGBoost**",
      "metadata": {
        "id": "rVPcGDC3fRj-"
      }
    },
    {
      "cell_type": "markdown",
      "source": "For the fourth model, we use XGBoost, training it on numeric features and evaluating performance with R² and RMSE. After fitting, we extract and rank the most important features based on their contribution to the model.",
      "metadata": {
        "id": "KyK3wkfIfYdn"
      }
    },
    {
      "cell_type": "code",
      "source": "# Keep only numeric columns and drop NaNs\nX = X.select_dtypes(include='number')\nvalid_index = X.dropna().index.intersection(y.dropna().index)\nX = X.loc[valid_index]\ny = y.loc[valid_index]\n\n# Train/Test Split\nX_train, X_test, y_train, y_test = train_test_split(X, y, test_size=0.2, random_state=42)\n\n# Initialize and Fit XGBoost Regressor\nxgb_model = xgb.XGBRegressor(\n    n_estimators=100,\n    learning_rate=0.1,\n    max_depth=5,\n    random_state=42,\n    verbosity=0\n)\n\nxgb_model.fit(X_train, y_train)\n\n# Predict and Evaluate\ny_pred = xgb_model.predict(X_test)\nr2 = r2_score(y_test, y_pred)\nrmse = np.sqrt(mean_squared_error(y_test, y_pred))\n\nprint(f\"XGBoost Test R²: {r2:.4f}\")\nprint(f\"XGBoost Test RMSE: {rmse:.2f}\")\n\n# Feature Importance\nimportance_df = pd.DataFrame({\n    'Feature': X.columns,\n    'Importance': xgb_model.feature_importances_\n}).sort_values(by='Importance', ascending=False)\n\nprint(\"\\nTop Features by Importance:\")\nprint(importance_df.head(10))\n",
      "metadata": {
        "colab": {
          "base_uri": "https://localhost:8080/"
        },
        "id": "GWVZs_FFdMxQ",
        "outputId": "ae912afe-f118-49a9-e609-55d6c62e304d",
        "trusted": true
      },
      "outputs": [],
      "execution_count": null
    },
    {
      "cell_type": "markdown",
      "source": "#**1.2.5 Model: LightGBM**",
      "metadata": {
        "id": "TiGFENNSiV-E"
      }
    },
    {
      "cell_type": "markdown",
      "source": "In this part, we use LightGBM as out fifth model.\n\nWe evaluated its performance using R² and RMSE, and analyzed which features were most important for prediction. This helped us assess how well LightGBM captures complex patterns in the data compared to other models like Random Forest and XGBoost.",
      "metadata": {
        "id": "3KNrpYAFi-pt"
      }
    },
    {
      "cell_type": "code",
      "source": "# Fit LightGBM Regressor\nlgb_model = lgb.LGBMRegressor(n_estimators=100, learning_rate=0.1, random_state=42)\nlgb_model.fit(X_train, y_train)\n\n# Predict and Evaluate\ny_pred = lgb_model.predict(X_test)\nr2 = r2_score(y_test, y_pred)\nrmse = np.sqrt(mean_squared_error(y_test, y_pred))\n\nprint(f\"LightGBM Test R²: {r2:.4f}\")\nprint(f\"LightGBM Test RMSE: {rmse:.2f}\")\n\n# Feature Importance\nimportance_df = pd.DataFrame({\n    'Feature': X.columns,\n    'Importance': lgb_model.feature_importances_\n}).sort_values(by='Importance', ascending=False)\n\nprint(\"\\nTop Features by Importance:\")\nprint(importance_df.head(10))\n",
      "metadata": {
        "colab": {
          "base_uri": "https://localhost:8080/"
        },
        "id": "bdRy3NDYfxmV",
        "outputId": "59dbebd7-548e-491b-b4c2-98e190d3cdc4",
        "trusted": true
      },
      "outputs": [],
      "execution_count": null
    },
    {
      "cell_type": "markdown",
      "source": "# **1.3.1 Horserace table -- Model Comparasion**\n\n\n",
      "metadata": {
        "id": "_N-9LwetjleU"
      }
    },
    {
      "cell_type": "markdown",
      "source": "We compare five regression models—OLS, LASSO, Random Forest, XGBoost, and LightGBM—on Airbnb price prediction. For each model, we record R², RMSE, and training time, then compile the results into a horserace table to evaluate fit and training speed.",
      "metadata": {
        "id": "MASSVSTum3NN"
      }
    },
    {
      "cell_type": "code",
      "source": "results = []\n# OLS\nstart = time.time()\nlr_model = LinearRegression().fit(X_train, y_train)\nlr_pred = lr_model.predict(X_test)\nend = time.time()\nresults.append(['OLS', r2_score(y_test, lr_pred), np.sqrt(mean_squared_error(y_test, lr_pred)), end - start])\n\n# LASSO\nstart = time.time()\nlasso = LassoCV(cv=5).fit(X_train, y_train)\nlasso_pred = lasso.predict(X_test)\nend = time.time()\nresults.append(['LASSO', r2_score(y_test, lasso_pred), np.sqrt(mean_squared_error(y_test, lasso_pred)), end - start])\n\n# Random Forest\nstart = time.time()\nrf = RandomForestRegressor(n_estimators=100, random_state=42).fit(X_train, y_train)\nrf_pred = rf.predict(X_test)\nend = time.time()\nresults.append(['Random Forest', r2_score(y_test, rf_pred), np.sqrt(mean_squared_error(y_test, rf_pred)), end - start])\n\n# XGBoost\nstart = time.time()\nxgb_model = xgb.XGBRegressor(n_estimators=100, learning_rate=0.1, random_state=42, verbosity=0).fit(X_train, y_train)\nxgb_pred = xgb_model.predict(X_test)\nend = time.time()\nresults.append(['XGBoost', r2_score(y_test, xgb_pred), np.sqrt(mean_squared_error(y_test, xgb_pred)), end - start])\n\n# LightGBM\nstart = time.time()\nlgb_model = lgb.LGBMRegressor(n_estimators=100, learning_rate=0.1, random_state=42).fit(X_train, y_train)\nlgb_pred = lgb_model.predict(X_test)\nend = time.time()\nresults.append(['LightGBM', r2_score(y_test, lgb_pred), np.sqrt(mean_squared_error(y_test, lgb_pred)), end - start])\n\n# Horserace Table\nhorse_df = pd.DataFrame(results, columns=['Model', 'R² Score', 'RMSE', 'Train Time (s)'])\nhorse_df.sort_values(by='R² Score', ascending=False, inplace=True)\nprint(\"\\nModel Comparison (Horserace Table):\")\nprint(horse_df.to_string(index=False))\n",
      "metadata": {
        "colab": {
          "base_uri": "https://localhost:8080/"
        },
        "id": "is9Q4aByknGL",
        "outputId": "f2037ef2-bd5d-435f-8fb1-975e5bb95f16",
        "trusted": true
      },
      "outputs": [],
      "execution_count": null
    },
    {
      "cell_type": "markdown",
      "source": "The horserace table shows LASSO and OLS performed best, with an R² of 0.26 and the lowest RMSE (104), indicating strong predictive power. Simpler linear models outperformed more complex ones.",
      "metadata": {
        "id": "JNsGhb9xnGFA"
      }
    },
    {
      "cell_type": "markdown",
      "source": "# **1.4.1 Feature Importance: RF and LightGBM**\n",
      "metadata": {
        "id": "ms9u6_cmnmLD"
      }
    },
    {
      "cell_type": "markdown",
      "source": "We extracted feature importance values from the Random Forest and LightGBM models, selected the top 10 features from each, and merged them into a single comparison table.",
      "metadata": {
        "id": "Bnye0jFJoW5k"
      }
    },
    {
      "cell_type": "code",
      "source": "# Extract feature importances\nrf_importance = pd.DataFrame({\n    'Feature': X.columns,\n    'RF Importance': rf.feature_importances_\n}).sort_values(by='RF Importance', ascending=False).reset_index(drop=True)\n\nlgb_importance = pd.DataFrame({\n    'Feature': X.columns,\n    'LightGBM Importance': lgb_model.feature_importances_\n}).sort_values(by='LightGBM Importance', ascending=False).reset_index(drop=True)\n\n# Merge Top 10 from each\nrf_top10 = rf_importance.head(10)\nlgb_top10 = lgb_importance.head(10)\n\n# Merge on feature name for comparison\ncomparison_df = pd.merge(rf_top10, lgb_top10, on='Feature', how='outer').fillna(0)\ncomparison_df = comparison_df.sort_values(by='RF Importance', ascending=False).reset_index(drop=True)\nprint(\"Top 10 Feature Importance Comparison (RF vs LightGBM):\")\nprint(comparison_df.to_string(index=False))\n",
      "metadata": {
        "colab": {
          "base_uri": "https://localhost:8080/"
        },
        "id": "810uN-8UlAmp",
        "outputId": "bc600ddb-d048-4def-d73a-ad37c49cf7fc",
        "trusted": true
      },
      "outputs": [],
      "execution_count": null
    },
    {
      "cell_type": "markdown",
      "source": "The feature importance comparison shows both Random Forest and LightGBM agree on the most influential variable: distance_to_center. This consistency supports the reliability of this feature, despite weak overall model performance.",
      "metadata": {
        "id": "7LVkBHsIoN4z"
      }
    },
    {
      "cell_type": "markdown",
      "source": "## **Part 2: Validity**",
      "metadata": {
        "id": "nYOyuIBtojMN"
      }
    },
    {
      "cell_type": "markdown",
      "source": "# **2.1 Data Wrangling**",
      "metadata": {
        "id": "nL4PKXbl_pG4"
      }
    },
    {
      "cell_type": "code",
      "source": "lisbon_dec=pd.read_csv('listings-later.csv')\nprint(lisbon_dec.shape)\nlisbon_dec.head()\nlisbon_dec.columns",
      "metadata": {
        "colab": {
          "base_uri": "https://localhost:8080/"
        },
        "id": "UOQmGc-dn8Yo",
        "outputId": "30ef1fd6-1700-4406-bf75-2fddf9268f4a",
        "trusted": true
      },
      "outputs": [],
      "execution_count": null
    },
    {
      "cell_type": "code",
      "source": "# Select only the variables of interest\nselected_columns_dec = [\n    'room_type',\n    'latitude',\n    'longitude',\n    'accommodates',\n    'bedrooms',\n    'host_total_listings_count',\n    'maximum_nights',\n    'minimum_nights',\n    'number_of_reviews',\n    'review_scores_rating',\n    'price'\n]\n\n# Create new dataframe with only selected variables\nselected_dec = airbnb[selected_columns_dec].copy()\nprint(selected_dec.shape)\nprint(selected_dec.dtypes)\nselected_dec.head()",
      "metadata": {
        "colab": {
          "base_uri": "https://localhost:8080/",
          "height": 538
        },
        "outputId": "162ca27d-081c-4c1d-ee55-8095d33fd089",
        "id": "xYX63zky_6EV",
        "trusted": true
      },
      "outputs": [],
      "execution_count": null
    },
    {
      "cell_type": "markdown",
      "source": "**2.1.1. Price**\n",
      "metadata": {
        "id": "WtAPdFbYASVn"
      }
    },
    {
      "cell_type": "code",
      "source": "# Convert price column to float\nselected_dec['price'] = (\n    selected_dec['price']\n    .astype(str)  # ensure everything is treated as string\n    .str.replace('[\\$,]', '', regex=True)  # Remove both $ and commas\n    .astype(float)\n)\n\nprint(selected_dec['price'].head())\n\n# Drop rows with missing prices\nselected_dec = selected_dec.dropna(subset=['price'])\nprint(\"\\nMissing values after cleaning:\", selected_dec['price'].isnull().sum())",
      "metadata": {
        "colab": {
          "base_uri": "https://localhost:8080/"
        },
        "id": "UwX_148-AIkq",
        "outputId": "8279afdb-3830-4f3b-f262-e61111f40742",
        "trusted": true
      },
      "outputs": [],
      "execution_count": null
    },
    {
      "cell_type": "markdown",
      "source": "**2.1.2 Room Type**",
      "metadata": {
        "id": "_oVu5oxjAwUO"
      }
    },
    {
      "cell_type": "code",
      "source": "# Clean the room_type strings\nselected_dec['room_type'] = (\n    selected_dec['room_type']\n    .str.strip()\n    .str.lower()\n    .str.replace(r'[\\/\\s]', '_', regex=True)\n)\n\n# Create dummy variables\ndummies = pd.get_dummies(\n    selected_dec['room_type'],\n    prefix='room',\n    drop_first=False\n)\n\n# Join with original data\nselected_dec = pd.concat([selected_dec, dummies], axis=1)\n\n# Preview the dummy variables\nprint(selected_dec.filter(like='room_').head())\nselected_dec.head()\n",
      "metadata": {
        "colab": {
          "base_uri": "https://localhost:8080/",
          "height": 451
        },
        "id": "NI7lE8W2AfMo",
        "outputId": "66ca75ac-98eb-457e-e4c9-a6edf231684d",
        "trusted": true
      },
      "outputs": [],
      "execution_count": null
    },
    {
      "cell_type": "markdown",
      "source": "**2.1.3 Latitude and Longitude**",
      "metadata": {
        "id": "pQqq3zOmBDmA"
      }
    },
    {
      "cell_type": "code",
      "source": "# Centre point for reference ( )\nCENTER_LAT = 38.7223  # latitude\nCENTER_LON = -9.1393  # longitude\n\n# Clean coordinate columns\nselected_dec['latitude'] = (\n    selected_dec['latitude']\n    .astype(str)\n    .str.replace('[^0-9.-]', '', regex=True)\n    .replace('', np.nan)\n    .astype(float)\n)\n\nselected_dec['longitude'] = (\n    selected_dec['longitude']\n    .astype(str)\n    .str.replace('[^0-9.-]', '', regex=True)\n    .replace('', np.nan)\n    .astype(float)\n)\n\n# Drop rows with invalid coordinates\nprint(f\"Before cleaning: {len(selected_dec)} rows\")\nselected_dec = selected_dec.dropna(subset=['latitude', 'longitude'])\nprint(f\"After cleaning: {len(selected_dec)} rows\")\n\n# Haversine formula to calculate distance to center\ndef haversine_distance(lat1, lon1, lat2, lon2):\n    R = 6371  # Earth radius in km\n    lat1, lon1, lat2, lon2 = map(radians, [lat1, lon1, lat2, lon2])\n    dlat = lat2 - lat1\n    dlon = lon2 - lon1\n    a = sin(dlat / 2)**2 + cos(lat1) * cos(lat2) * sin(dlon / 2)**2\n    c = 2 * atan2(sqrt(a), sqrt(1 - a))\n    return R * c\n\n# Create new distance column\nselected_dec['distance_to_center'] = selected_dec.apply(\n    lambda row: haversine_distance(\n        row['latitude'],\n        row['longitude'],\n        CENTER_LAT,\n        CENTER_LON\n    ),\n    axis=1\n)\n\n# Summary stats\nprint(\"\\nDistance statistics (km):\")\nprint(selected_dec['distance_to_center'].describe())\n\n",
      "metadata": {
        "colab": {
          "base_uri": "https://localhost:8080/",
          "height": 760
        },
        "id": "Hr2EpIW9BBM2",
        "outputId": "b1129010-eb81-4ede-9bb3-b2720bc96971",
        "trusted": true
      },
      "outputs": [],
      "execution_count": null
    },
    {
      "cell_type": "markdown",
      "source": "**2.1.4 Accomodation and Bedrooms**",
      "metadata": {
        "id": "ZPqJDRikCb9r"
      }
    },
    {
      "cell_type": "code",
      "source": "selected_dec['accommodates'].agg(['min', 'max'])",
      "metadata": {
        "colab": {
          "base_uri": "https://localhost:8080/",
          "height": 146
        },
        "id": "UktwdDVOBeGO",
        "outputId": "5a37aa10-c760-4823-8f94-7bf165e2d556",
        "trusted": true
      },
      "outputs": [],
      "execution_count": null
    },
    {
      "cell_type": "code",
      "source": "selected_dec['bedrooms'].agg(['min', 'max'])",
      "metadata": {
        "colab": {
          "base_uri": "https://localhost:8080/",
          "height": 146
        },
        "id": "yBwM2sYICjyi",
        "outputId": "d1e81625-d5a8-436b-ddb8-e5fcea7bbf7b",
        "trusted": true
      },
      "outputs": [],
      "execution_count": null
    },
    {
      "cell_type": "code",
      "source": "# binning for variable: accomodation\nselected_dec['accommodates_bin'] = pd.cut(selected_dec['accommodates'], bins=[0, 2, 4, 6, 9, 16], labels=False)\nselected_dec['bedrooms_bin'] = pd.cut(selected_dec['bedrooms'], bins=[0, 1, 2, 3, 4, 15], labels=False)\n# selected_dec.head()",
      "metadata": {
        "colab": {
          "base_uri": "https://localhost:8080/",
          "height": 226
        },
        "id": "1mtM6kVHCnQx",
        "outputId": "720fd1ef-6465-4462-8ec9-5dd401c89b08",
        "trusted": true
      },
      "outputs": [],
      "execution_count": null
    },
    {
      "cell_type": "markdown",
      "source": "**2.1.5 Host Listings Count**",
      "metadata": {
        "id": "Zxj6CZZ5C64l"
      }
    },
    {
      "cell_type": "code",
      "source": "selected_dec['host_total_listings_count'].agg(['min', 'max'])",
      "metadata": {
        "colab": {
          "base_uri": "https://localhost:8080/",
          "height": 146
        },
        "id": "AE2HVChRC3UK",
        "outputId": "57a37605-3970-4954-a665-1510d0153a32",
        "trusted": true
      },
      "outputs": [],
      "execution_count": null
    },
    {
      "cell_type": "code",
      "source": "#creating bins\nselected_dec['host_scale'] = pd.cut(selected_dec['host_total_listings_count'], bins=[0, 1, 5, 10, 1149], labels=False)",
      "metadata": {
        "id": "8byoVjV4DBsF",
        "trusted": true
      },
      "outputs": [],
      "execution_count": null
    },
    {
      "cell_type": "markdown",
      "source": "**2.1.6 Maximum and Minimum Nights**",
      "metadata": {
        "id": "L0wScD7zDUEr"
      }
    },
    {
      "cell_type": "code",
      "source": "selected_dec['maximum_nights'].agg(['min', 'max'])",
      "metadata": {
        "colab": {
          "base_uri": "https://localhost:8080/",
          "height": 146
        },
        "id": "MhujW58hDIel",
        "outputId": "870bc0d5-c89a-49a2-992e-11f40b96d2a5",
        "trusted": true
      },
      "outputs": [],
      "execution_count": null
    },
    {
      "cell_type": "code",
      "source": "selected_dec['minimum_nights'].agg(['min', 'max'])",
      "metadata": {
        "colab": {
          "base_uri": "https://localhost:8080/",
          "height": 146
        },
        "id": "NLR8X9wmDbho",
        "outputId": "67e3e0e8-fb86-4140-f9a3-6d3e5b52df37",
        "trusted": true
      },
      "outputs": [],
      "execution_count": null
    },
    {
      "cell_type": "code",
      "source": "#creating bins for both\nselected_dec['min_nights_bin'] = pd.cut(selected_dec['minimum_nights'], bins=[0, 3, 7, 30, 701], labels=False)\nselected_dec['max_nights_bin'] = pd.cut(selected_dec['maximum_nights'], bins=[0, 7, 30, 100, 10000], labels=False)\nselected_dec.head()",
      "metadata": {
        "colab": {
          "base_uri": "https://localhost:8080/",
          "height": 255
        },
        "id": "PMcgQta0DghA",
        "outputId": "20a85171-f9c5-4424-cd6e-4d77cb52a9f6",
        "trusted": true
      },
      "outputs": [],
      "execution_count": null
    },
    {
      "cell_type": "markdown",
      "source": "**2.1.7 Review Number and Review Score Rating**",
      "metadata": {
        "id": "8C3BKCyzD0-_"
      }
    },
    {
      "cell_type": "code",
      "source": "selected_dec['number_of_reviews'].agg(['min', 'max'])",
      "metadata": {
        "colab": {
          "base_uri": "https://localhost:8080/",
          "height": 146
        },
        "id": "5TAQKCodDi1H",
        "outputId": "dd52db59-44cf-4229-dadc-6eac7afdbf72",
        "trusted": true
      },
      "outputs": [],
      "execution_count": null
    },
    {
      "cell_type": "code",
      "source": "# Drop rows where review_scores_rating is missing\nselected_dec = selected_dec.dropna(subset=['number_of_reviews'])\nselected_dec['review_number'] = pd.cut(selected_dec['number_of_reviews'], bins=[0, 100, 200, 300 , 400, 500, 600, 2612], labels=False)\nselected_dec.head()",
      "metadata": {
        "colab": {
          "base_uri": "https://localhost:8080/",
          "height": 255
        },
        "id": "nyRoO0v2D3pV",
        "outputId": "b60c0907-1cfa-4353-eea8-e126ce21a098",
        "trusted": true
      },
      "outputs": [],
      "execution_count": null
    },
    {
      "cell_type": "markdown",
      "source": "#**2.2.1 Model: OLS**",
      "metadata": {
        "id": "snQ7rBacEZa8"
      }
    },
    {
      "cell_type": "code",
      "source": "# Features and Target\nX = selected_dec.drop('price', axis=1)\ny = selected_dec['price']\n\n# Keep only numeric variables\nX = X.select_dtypes(include=[np.number])\n\n# Filter to Drop NaNs for Required Columns\nrequired_cols = [\n    'distance_to_center', 'review_scores_rating', 'bedrooms_bin',\n    'accommodates_bin', 'min_nights_bin', 'max_nights_bin', 'host_scale', 'review_number'\n]\n\nvalid_index = X[required_cols].dropna().index.intersection(y.dropna().index)\nX = X.loc[valid_index]\ny = y.loc[valid_index]\n\n# Add constant for OLS intercept\nX = sm.add_constant(X)\n\n# Train/Test Split\nX_train, X_test, y_train, y_test = train_test_split(X, y, test_size=0.2, random_state=42)\n\n# Define Variables for Each Model\nmodel1_vars = ['const', 'distance_to_center', 'review_scores_rating', 'bedrooms_bin']\nmodel2_vars = model1_vars + ['accommodates_bin', 'max_nights_bin', 'min_nights_bin']\nmodel3_vars = model2_vars + ['host_scale', 'review_number']\n\n# Step 6: Fit the Models\nmodel1 = sm.OLS(y_train, X_train[model1_vars]).fit()\nmodel2 = sm.OLS(y_train, X_train[model2_vars]).fit()\nmodel3 = sm.OLS(y_train, X_train[model3_vars]).fit()\n\n# Display Model Comparison Table\nsummary = summary_col(\n    results=[model1, model2, model3],\n    float_format='%0.3f',\n    stars=True,\n    model_names=['Model 1', 'Model 2', 'Model 3'],\n    info_dict={\n        'R-squared': lambda x: f\"{x.rsquared:.3f}\",\n        'Adj. R-squared': lambda x: f\"{x.rsquared_adj:.3f}\",\n        'BIC': lambda x: f\"{x.bic:.0f}\",\n        'Observations': lambda x: f\"{int(x.nobs)}\"\n    }\n)\n\nprint(summary)\n",
      "metadata": {
        "colab": {
          "base_uri": "https://localhost:8080/"
        },
        "id": "2yj_qqqwEH-4",
        "outputId": "885c1034-9867-4981-8e4a-28be2e397b6c",
        "trusted": true
      },
      "outputs": [],
      "execution_count": null
    },
    {
      "cell_type": "markdown",
      "source": "#**2.2.2 Model: LASSO**\n",
      "metadata": {
        "id": "_pHgHA35EZCJ"
      }
    },
    {
      "cell_type": "code",
      "source": "# Drop rows with NaNs\nvalid_index = X.dropna().index.intersection(y.dropna().index)\nX = X.loc[valid_index]\ny = y.loc[valid_index]\n\n# Train/Test Split\nX_train, X_test, y_train, y_test = train_test_split(X, y, test_size=0.2, random_state=42)\n",
      "metadata": {
        "id": "pWgQ4CWkLalx",
        "trusted": true
      },
      "outputs": [],
      "execution_count": null
    },
    {
      "cell_type": "code",
      "source": "\n# Build LASSO Pipeline\nlasso_pipeline = Pipeline([\n    ('scaler', StandardScaler()),\n    ('lasso', LassoCV(cv=5, random_state=42))\n])\n\n# Fit LASSO\nlasso_pipeline.fit(X_train, y_train)\n\n# Get Best Alpha and Coefficients\nbest_alpha = lasso_pipeline.named_steps['lasso'].alpha_\nlasso_coefficients = lasso_pipeline.named_steps['lasso'].coef_\n\nprint(f\"Best alpha (lambda): {best_alpha:.4f}\")\nprint(\"\\nLASSO Coefficients:\")\nfor feature, coef in zip(X.columns, lasso_coefficients):\n    print(f\"{feature}: {coef:.4f}\")\n\n# Evaluate Model\ny_pred = lasso_pipeline.predict(X_test)\nr2 = r2_score(y_test, y_pred)\nrmse = np.sqrt(mean_squared_error(y_test, y_pred))\n\nprint(f\"\\nTest R²: {r2:.4f}\")\nprint(f\"Test RMSE: {rmse:.2f}\")",
      "metadata": {
        "colab": {
          "base_uri": "https://localhost:8080/"
        },
        "outputId": "ce5066ca-e9fa-4618-abd5-6d2a58ab265b",
        "id": "WigtCduvLeDR",
        "trusted": true
      },
      "outputs": [],
      "execution_count": null
    },
    {
      "cell_type": "markdown",
      "source": "#**2.2.3 Model: Random Forest**",
      "metadata": {
        "id": "2CwNWHIXLV_x"
      }
    },
    {
      "cell_type": "code",
      "source": "# Select Relevant Features\nselected_features = [\n    'distance_to_center', 'review_scores_rating', 'bedrooms_bin',\n    'accommodates_bin', 'min_nights_bin', 'max_nights_bin',\n    'host_scale', 'review_number'\n]\n\nX = selected_dec[selected_features]\ny = selected_dec['price']\n\n# Drop NaNs and Split Data\nvalid_index = X.dropna().index.intersection(y.dropna().index)\nX = X.loc[valid_index]\ny = y.loc[valid_index]\n\nX_train, X_test, y_train, y_test = train_test_split(X, y, test_size=0.2, random_state=42)\n\n# Train Random Forest\nrf_model = RandomForestRegressor(n_estimators=100, random_state=42)\nrf_model.fit(X_train, y_train)\n\n# Predict and Evaluate\ny_pred = rf_model.predict(X_test)\nr2 = r2_score(y_test, y_pred)\nrmse = np.sqrt(mean_squared_error(y_test, y_pred))\n\nprint(f\"Random Forest Test R²: {r2:.4f}\")\nprint(f\"Random Forest Test RMSE: {rmse:.2f}\")\n\n# Show Feature Importances\nimportance_df = pd.DataFrame({\n    'Feature': X.columns,\n    'Importance': rf_model.feature_importances_\n}).sort_values(by='Importance', ascending=False)\n\nprint(\"\\nTop Features by Importance:\")\nprint(importance_df.head(10))\n",
      "metadata": {
        "colab": {
          "base_uri": "https://localhost:8080/"
        },
        "id": "bbt0_k1lLT4c",
        "outputId": "65cbcd9c-a0b9-441f-aec9-80520a0a21e9",
        "trusted": true
      },
      "outputs": [],
      "execution_count": null
    },
    {
      "cell_type": "markdown",
      "source": "#**2.2.4 Model: XGBoost**",
      "metadata": {
        "id": "6IoHFZVhLVGg"
      }
    },
    {
      "cell_type": "code",
      "source": "",
      "metadata": {
        "id": "wEvl9JkqLTvm",
        "trusted": true
      },
      "outputs": [],
      "execution_count": null
    },
    {
      "cell_type": "code",
      "source": "# Keep only numeric columns and drop NaNs\nX = X.select_dtypes(include='number')\nvalid_index = X.dropna().index.intersection(y.dropna().index)\nX = X.loc[valid_index]\ny = y.loc[valid_index]\n\n# Train/Test Split\nX_train, X_test, y_train, y_test = train_test_split(X, y, test_size=0.2, random_state=42)\n\n# Initialize and Fit XGBoost Regressor\nxgb_model = xgb.XGBRegressor(\n    n_estimators=100,\n    learning_rate=0.1,\n    max_depth=5,\n    random_state=42,\n    verbosity=0\n)\n\nxgb_model.fit(X_train, y_train)\n\n# Predict and Evaluate\ny_pred = xgb_model.predict(X_test)\nr2 = r2_score(y_test, y_pred)\nrmse = np.sqrt(mean_squared_error(y_test, y_pred))\n\nprint(f\"XGBoost Test R²: {r2:.4f}\")\nprint(f\"XGBoost Test RMSE: {rmse:.2f}\")\n\n# Feature Importance\nimportance_df = pd.DataFrame({\n    'Feature': X.columns,\n    'Importance': xgb_model.feature_importances_\n}).sort_values(by='Importance', ascending=False)\n\nprint(\"\\nTop Features by Importance:\")\nprint(importance_df.head(10))\n",
      "metadata": {
        "colab": {
          "base_uri": "https://localhost:8080/"
        },
        "outputId": "96df12a9-2004-42e8-fa95-77dc78b9828f",
        "id": "5A4X-FFmRtS0",
        "trusted": true
      },
      "outputs": [],
      "execution_count": null
    },
    {
      "cell_type": "markdown",
      "source": "#**1.2.5 Model: LightGBM**",
      "metadata": {
        "id": "8Elu-nwuSJae"
      }
    },
    {
      "cell_type": "code",
      "source": "# Fit LightGBM Regressor\nlgb_model = lgb.LGBMRegressor(n_estimators=100, learning_rate=0.1, random_state=42)\nlgb_model.fit(X_train, y_train)\n\n# Predict and Evaluate\ny_pred = lgb_model.predict(X_test)\nr2 = r2_score(y_test, y_pred)\nrmse = np.sqrt(mean_squared_error(y_test, y_pred))\n\nprint(f\"LightGBM Test R²: {r2:.4f}\")\nprint(f\"LightGBM Test RMSE: {rmse:.2f}\")\n\n# Feature Importance\nimportance_df = pd.DataFrame({\n    'Feature': X.columns,\n    'Importance': lgb_model.feature_importances_\n}).sort_values(by='Importance', ascending=False)\n\nprint(\"\\nTop Features by Importance:\")\nprint(importance_df.head(10))\n",
      "metadata": {
        "colab": {
          "base_uri": "https://localhost:8080/"
        },
        "outputId": "50f0a28d-7bfa-43a9-95a9-209642317783",
        "id": "xKqQXldHSL2k",
        "trusted": true,
        "scrolled": true
      },
      "outputs": [],
      "execution_count": null
    },
    {
      "cell_type": "markdown",
      "source": "**Step 1:** Load and Process Porto Dataset",
      "metadata": {}
    },
    {
      "cell_type": "code",
      "source": "porto=pd.read_csv('listings-porto.csv')\nprint(porto.shape)\nporto.head()\nporto.columns",
      "metadata": {
        "trusted": true
      },
      "outputs": [
        {
          "name": "stdout",
          "output_type": "stream",
          "text": "(14360, 79)\n"
        },
        {
          "execution_count": 54,
          "output_type": "execute_result",
          "data": {
            "text/plain": "Index(['id', 'listing_url', 'scrape_id', 'last_scraped', 'source', 'name',\n       'description', 'neighborhood_overview', 'picture_url', 'host_id',\n       'host_url', 'host_name', 'host_since', 'host_location', 'host_about',\n       'host_response_time', 'host_response_rate', 'host_acceptance_rate',\n       'host_is_superhost', 'host_thumbnail_url', 'host_picture_url',\n       'host_neighbourhood', 'host_listings_count',\n       'host_total_listings_count', 'host_verifications',\n       'host_has_profile_pic', 'host_identity_verified', 'neighbourhood',\n       'neighbourhood_cleansed', 'neighbourhood_group_cleansed', 'latitude',\n       'longitude', 'property_type', 'room_type', 'accommodates', 'bathrooms',\n       'bathrooms_text', 'bedrooms', 'beds', 'amenities', 'price',\n       'minimum_nights', 'maximum_nights', 'minimum_minimum_nights',\n       'maximum_minimum_nights', 'minimum_maximum_nights',\n       'maximum_maximum_nights', 'minimum_nights_avg_ntm',\n       'maximum_nights_avg_ntm', 'calendar_updated', 'has_availability',\n       'availability_30', 'availability_60', 'availability_90',\n       'availability_365', 'calendar_last_scraped', 'number_of_reviews',\n       'number_of_reviews_ltm', 'number_of_reviews_l30d', 'availability_eoy',\n       'number_of_reviews_ly', 'estimated_occupancy_l365d',\n       'estimated_revenue_l365d', 'first_review', 'last_review',\n       'review_scores_rating', 'review_scores_accuracy',\n       'review_scores_cleanliness', 'review_scores_checkin',\n       'review_scores_communication', 'review_scores_location',\n       'review_scores_value', 'license', 'instant_bookable',\n       'calculated_host_listings_count',\n       'calculated_host_listings_count_entire_homes',\n       'calculated_host_listings_count_private_rooms',\n       'calculated_host_listings_count_shared_rooms', 'reviews_per_month'],\n      dtype='object')"
          },
          "metadata": {}
        }
      ],
      "execution_count": 54
    },
    {
      "cell_type": "code",
      "source": "# Select only the variables of interest\nselected_columns_porto = [\n    'room_type',\n    'latitude',\n    'longitude',\n    'accommodates',\n    'bedrooms',\n    'host_total_listings_count',\n    'maximum_nights',\n    'minimum_nights',\n    'number_of_reviews',\n    'review_scores_rating',\n    'price'\n]\n\n# Create new dataframe with only selected variables\nselected_porto = airbnb[selected_columns_porto].copy()\nprint(selected_porto.shape)\nprint(selected_porto.dtypes)\nselected_porto.head()",
      "metadata": {
        "trusted": true
      },
      "outputs": [
        {
          "name": "stdout",
          "output_type": "stream",
          "text": "(24181, 11)\nroom_type                     object\nlatitude                     float64\nlongitude                    float64\naccommodates                   int64\nbedrooms                     float64\nhost_total_listings_count    float64\nmaximum_nights                 int64\nminimum_nights                 int64\nnumber_of_reviews              int64\nreview_scores_rating         float64\nprice                         object\ndtype: object\n"
        },
        {
          "execution_count": 55,
          "output_type": "execute_result",
          "data": {
            "text/plain": "         room_type  latitude  longitude  accommodates  bedrooms  \\\n0  Entire home/apt  38.69750   -9.19768             3       1.0   \n1  Entire home/apt  38.71241   -9.12706             3       1.0   \n2  Entire home/apt  38.71156   -9.12987             4       1.0   \n3  Entire home/apt  38.71108   -9.15979            16       9.0   \n4  Entire home/apt  38.74606   -9.15358             3       1.0   \n\n   host_total_listings_count  maximum_nights  minimum_nights  \\\n0                        2.0             365               4   \n1                        2.0              14               2   \n2                        1.0            1125               2   \n3                        2.0            1125               2   \n4                        2.0             365               6   \n\n   number_of_reviews  review_scores_rating    price  \n0                 77                  4.52   $35.00  \n1                215                  4.82   $78.00  \n2                407                  4.77   $63.00  \n3                140                  4.95  $984.00  \n4                 61                  4.57  $100.00  ",
            "text/html": "<div>\n<style scoped>\n    .dataframe tbody tr th:only-of-type {\n        vertical-align: middle;\n    }\n\n    .dataframe tbody tr th {\n        vertical-align: top;\n    }\n\n    .dataframe thead th {\n        text-align: right;\n    }\n</style>\n<table border=\"1\" class=\"dataframe\">\n  <thead>\n    <tr style=\"text-align: right;\">\n      <th></th>\n      <th>room_type</th>\n      <th>latitude</th>\n      <th>longitude</th>\n      <th>accommodates</th>\n      <th>bedrooms</th>\n      <th>host_total_listings_count</th>\n      <th>maximum_nights</th>\n      <th>minimum_nights</th>\n      <th>number_of_reviews</th>\n      <th>review_scores_rating</th>\n      <th>price</th>\n    </tr>\n  </thead>\n  <tbody>\n    <tr>\n      <th>0</th>\n      <td>Entire home/apt</td>\n      <td>38.69750</td>\n      <td>-9.19768</td>\n      <td>3</td>\n      <td>1.0</td>\n      <td>2.0</td>\n      <td>365</td>\n      <td>4</td>\n      <td>77</td>\n      <td>4.52</td>\n      <td>$35.00</td>\n    </tr>\n    <tr>\n      <th>1</th>\n      <td>Entire home/apt</td>\n      <td>38.71241</td>\n      <td>-9.12706</td>\n      <td>3</td>\n      <td>1.0</td>\n      <td>2.0</td>\n      <td>14</td>\n      <td>2</td>\n      <td>215</td>\n      <td>4.82</td>\n      <td>$78.00</td>\n    </tr>\n    <tr>\n      <th>2</th>\n      <td>Entire home/apt</td>\n      <td>38.71156</td>\n      <td>-9.12987</td>\n      <td>4</td>\n      <td>1.0</td>\n      <td>1.0</td>\n      <td>1125</td>\n      <td>2</td>\n      <td>407</td>\n      <td>4.77</td>\n      <td>$63.00</td>\n    </tr>\n    <tr>\n      <th>3</th>\n      <td>Entire home/apt</td>\n      <td>38.71108</td>\n      <td>-9.15979</td>\n      <td>16</td>\n      <td>9.0</td>\n      <td>2.0</td>\n      <td>1125</td>\n      <td>2</td>\n      <td>140</td>\n      <td>4.95</td>\n      <td>$984.00</td>\n    </tr>\n    <tr>\n      <th>4</th>\n      <td>Entire home/apt</td>\n      <td>38.74606</td>\n      <td>-9.15358</td>\n      <td>3</td>\n      <td>1.0</td>\n      <td>2.0</td>\n      <td>365</td>\n      <td>6</td>\n      <td>61</td>\n      <td>4.57</td>\n      <td>$100.00</td>\n    </tr>\n  </tbody>\n</table>\n</div>"
          },
          "metadata": {}
        }
      ],
      "execution_count": 55
    },
    {
      "cell_type": "code",
      "source": "# Convert price column to float\nselected_porto['price'] = (\n    selected_porto['price']\n    .astype(str)  # ensure everything is treated as string\n    .str.replace('[\\$,]', '', regex=True)  # Remove both $ and commas\n    .astype(float)\n)\n\nprint(selected_porto['price'].head())\n\n# Drop rows with missing prices\nselected_porto = selected_porto.dropna(subset=['price'])\nprint(\"\\nMissing values after cleaning:\", selected_porto['price'].isnull().sum())",
      "metadata": {
        "trusted": true
      },
      "outputs": [
        {
          "name": "stdout",
          "output_type": "stream",
          "text": "0     35.0\n1     78.0\n2     63.0\n3    984.0\n4    100.0\nName: price, dtype: float64\n\n 0ssing values after cleaning:\n"
        }
      ],
      "execution_count": 56
    },
    {
      "cell_type": "code",
      "source": "# Clean the room_type strings\nselected_porto['room_type'] = (\n    selected_porto['room_type']\n    .str.strip()\n    .str.lower()\n    .str.replace(r'[\\/\\s]', '_', regex=True)\n)\n\n# Create dummy variables\ndummies = pd.get_dummies(\n    selected_porto['room_type'],\n    prefix='room',\n    drop_first=False\n)\n\n# Join with original data\nselected_porto = pd.concat([selected_porto, dummies], axis=1)\n\n# Preview the dummy variables\nprint(selected_porto.filter(like='room_').head())\nselected_porto.head()\n",
      "metadata": {
        "trusted": true
      },
      "outputs": [
        {
          "name": "stdout",
          "output_type": "stream",
          "text": "         room_type  room_entire_home_apt  room_hotel_room  room_private_room  \\\n0  entire_home_apt                  True            False              False   \n1  entire_home_apt                  True            False              False   \n2  entire_home_apt                  True            False              False   \n3  entire_home_apt                  True            False              False   \n4  entire_home_apt                  True            False              False   \n\n   room_shared_room  \n0             False  \n1             False  \n2             False  \n3             False  \n4             False  \n"
        },
        {
          "execution_count": 57,
          "output_type": "execute_result",
          "data": {
            "text/plain": "         room_type  latitude  longitude  accommodates  bedrooms  \\\n0  entire_home_apt  38.69750   -9.19768             3       1.0   \n1  entire_home_apt  38.71241   -9.12706             3       1.0   \n2  entire_home_apt  38.71156   -9.12987             4       1.0   \n3  entire_home_apt  38.71108   -9.15979            16       9.0   \n4  entire_home_apt  38.74606   -9.15358             3       1.0   \n\n   host_total_listings_count  maximum_nights  minimum_nights  \\\n0                        2.0             365               4   \n1                        2.0              14               2   \n2                        1.0            1125               2   \n3                        2.0            1125               2   \n4                        2.0             365               6   \n\n   number_of_reviews  review_scores_rating  price  room_entire_home_apt  \\\n0                 77                  4.52   35.0                  True   \n1                215                  4.82   78.0                  True   \n2                407                  4.77   63.0                  True   \n3                140                  4.95  984.0                  True   \n4                 61                  4.57  100.0                  True   \n\n   room_hotel_room  room_private_room  room_shared_room  \n0            False              False             False  \n1            False              False             False  \n2            False              False             False  \n3            False              False             False  \n4            False              False             False  ",
            "text/html": "<div>\n<style scoped>\n    .dataframe tbody tr th:only-of-type {\n        vertical-align: middle;\n    }\n\n    .dataframe tbody tr th {\n        vertical-align: top;\n    }\n\n    .dataframe thead th {\n        text-align: right;\n    }\n</style>\n<table border=\"1\" class=\"dataframe\">\n  <thead>\n    <tr style=\"text-align: right;\">\n      <th></th>\n      <th>room_type</th>\n      <th>latitude</th>\n      <th>longitude</th>\n      <th>accommodates</th>\n      <th>bedrooms</th>\n      <th>host_total_listings_count</th>\n      <th>maximum_nights</th>\n      <th>minimum_nights</th>\n      <th>number_of_reviews</th>\n      <th>review_scores_rating</th>\n      <th>price</th>\n      <th>room_entire_home_apt</th>\n      <th>room_hotel_room</th>\n      <th>room_private_room</th>\n      <th>room_shared_room</th>\n    </tr>\n  </thead>\n  <tbody>\n    <tr>\n      <th>0</th>\n      <td>entire_home_apt</td>\n      <td>38.69750</td>\n      <td>-9.19768</td>\n      <td>3</td>\n      <td>1.0</td>\n      <td>2.0</td>\n      <td>365</td>\n      <td>4</td>\n      <td>77</td>\n      <td>4.52</td>\n      <td>35.0</td>\n      <td>True</td>\n      <td>False</td>\n      <td>False</td>\n      <td>False</td>\n    </tr>\n    <tr>\n      <th>1</th>\n      <td>entire_home_apt</td>\n      <td>38.71241</td>\n      <td>-9.12706</td>\n      <td>3</td>\n      <td>1.0</td>\n      <td>2.0</td>\n      <td>14</td>\n      <td>2</td>\n      <td>215</td>\n      <td>4.82</td>\n      <td>78.0</td>\n      <td>True</td>\n      <td>False</td>\n      <td>False</td>\n      <td>False</td>\n    </tr>\n    <tr>\n      <th>2</th>\n      <td>entire_home_apt</td>\n      <td>38.71156</td>\n      <td>-9.12987</td>\n      <td>4</td>\n      <td>1.0</td>\n      <td>1.0</td>\n      <td>1125</td>\n      <td>2</td>\n      <td>407</td>\n      <td>4.77</td>\n      <td>63.0</td>\n      <td>True</td>\n      <td>False</td>\n      <td>False</td>\n      <td>False</td>\n    </tr>\n    <tr>\n      <th>3</th>\n      <td>entire_home_apt</td>\n      <td>38.71108</td>\n      <td>-9.15979</td>\n      <td>16</td>\n      <td>9.0</td>\n      <td>2.0</td>\n      <td>1125</td>\n      <td>2</td>\n      <td>140</td>\n      <td>4.95</td>\n      <td>984.0</td>\n      <td>True</td>\n      <td>False</td>\n      <td>False</td>\n      <td>False</td>\n    </tr>\n    <tr>\n      <th>4</th>\n      <td>entire_home_apt</td>\n      <td>38.74606</td>\n      <td>-9.15358</td>\n      <td>3</td>\n      <td>1.0</td>\n      <td>2.0</td>\n      <td>365</td>\n      <td>6</td>\n      <td>61</td>\n      <td>4.57</td>\n      <td>100.0</td>\n      <td>True</td>\n      <td>False</td>\n      <td>False</td>\n      <td>False</td>\n    </tr>\n  </tbody>\n</table>\n</div>"
          },
          "metadata": {}
        }
      ],
      "execution_count": 57
    },
    {
      "cell_type": "code",
      "source": "# Define Porto's city center coordinates (example: Praça da Liberdade)\nPORTO_CENTER_LAT = 41.1579\nPORTO_CENTER_LON = -8.6291\n\n# Clean coordinate columns\nselected_porto['latitude'] = (\n    selected_porto['latitude']\n    .astype(str)\n    .str.replace('[^0-9.-]', '', regex=True)\n    .replace('', np.nan)\n    .astype(float)\n)\n\nselected_porto['longitude'] = (\n    selected_porto['longitude']\n    .astype(str)\n    .str.replace('[^0-9.-]', '', regex=True)\n    .replace('', np.nan)\n    .astype(float)\n)\n\n# Drop rows with invalid coordinates\nprint(f\"Before cleaning: {len(selected_porto)} rows\")\nselected_porto = selected_porto.dropna(subset=['latitude', 'longitude'])\nprint(f\"After cleaning: {len(selected_porto)} rows\")\n\n# Haversine formula to calculate distance to center\ndef haversine_distance(lat1, lon1, lat2, lon2):\n    R = 6371  # Earth radius in km\n    lat1, lon1, lat2, lon2 = map(radians, [lat1, lon1, lat2, lon2])\n    dlat = lat2 - lat1\n    dlon = lon2 - lon1\n    a = sin(dlat / 2)**2 + cos(lat1) * cos(lat2) * sin(dlon / 2)**2\n    c = 2 * atan2(sqrt(a), sqrt(1 - a))\n    return R * c\n\n# Create new distance column\nselected_porto['distance_to_center'] = selected_porto.apply(\n    lambda row: haversine_distance(\n        row['latitude'],\n        row['longitude'],\n        CENTER_LAT,\n        CENTER_LON\n    ),\n    axis=1\n)\n\n# Summary stats\nprint(\"\\nDistance statistics (km):\")\nprint(selected_porto['distance_to_center'].describe())\n\n",
      "metadata": {
        "trusted": true
      },
      "outputs": [
        {
          "name": "stdout",
          "output_type": "stream",
          "text": "Before cleaning: 21457 rows\nAfter cleaning: 21457 rows\n\nDistance statistics (km):\ncount    21457.000000\nmean        10.037012\nstd         14.355003\nmin          0.065004\n25%          1.223089\n50%          1.858989\n75%         17.284823\nmax         65.240474\nName: distance_to_center, dtype: float64\n"
        }
      ],
      "execution_count": 58
    },
    {
      "cell_type": "code",
      "source": "selected_porto['accommodates'].agg(['min', 'max'])",
      "metadata": {
        "trusted": true
      },
      "outputs": [
        {
          "execution_count": 59,
          "output_type": "execute_result",
          "data": {
            "text/plain": "min     1\nmax    16\nName: accommodates, dtype: int64"
          },
          "metadata": {}
        }
      ],
      "execution_count": 59
    },
    {
      "cell_type": "code",
      "source": "selected_porto['bedrooms'].agg(['min', 'max'])",
      "metadata": {
        "trusted": true
      },
      "outputs": [
        {
          "execution_count": 60,
          "output_type": "execute_result",
          "data": {
            "text/plain": "min     0.0\nmax    25.0\nName: bedrooms, dtype: float64"
          },
          "metadata": {}
        }
      ],
      "execution_count": 60
    },
    {
      "cell_type": "code",
      "source": "# binning for variable: accomodation\nselected_porto['accommodates_bin'] = pd.cut(selected_porto['accommodates'], bins=[0, 2, 4, 6, 9, 16], labels=False)\nselected_porto['bedrooms_bin'] = pd.cut(selected_porto['bedrooms'], bins=[0, 1, 2, 3, 4, 15], labels=False)\n",
      "metadata": {
        "trusted": true
      },
      "outputs": [],
      "execution_count": 61
    },
    {
      "cell_type": "code",
      "source": "selected_porto['host_total_listings_count'].agg(['min', 'max'])",
      "metadata": {
        "trusted": true
      },
      "outputs": [
        {
          "execution_count": 62,
          "output_type": "execute_result",
          "data": {
            "text/plain": "min       1.0\nmax    7977.0\nName: host_total_listings_count, dtype: float64"
          },
          "metadata": {}
        }
      ],
      "execution_count": 62
    },
    {
      "cell_type": "code",
      "source": "#creating bins\nselected_porto['host_scale'] = pd.cut(selected_porto['host_total_listings_count'], bins=[0, 1, 5, 10, 1149], labels=False)",
      "metadata": {
        "trusted": true
      },
      "outputs": [],
      "execution_count": 63
    },
    {
      "cell_type": "code",
      "source": "selected_porto['maximum_nights'].agg(['min', 'max'])",
      "metadata": {
        "trusted": true
      },
      "outputs": [
        {
          "execution_count": 64,
          "output_type": "execute_result",
          "data": {
            "text/plain": "min        1\nmax    36180\nName: maximum_nights, dtype: int64"
          },
          "metadata": {}
        }
      ],
      "execution_count": 64
    },
    {
      "cell_type": "code",
      "source": "selected_porto['minimum_nights'].agg(['min', 'max'])",
      "metadata": {
        "trusted": true
      },
      "outputs": [
        {
          "execution_count": 65,
          "output_type": "execute_result",
          "data": {
            "text/plain": "min      1\nmax    730\nName: minimum_nights, dtype: int64"
          },
          "metadata": {}
        }
      ],
      "execution_count": 65
    },
    {
      "cell_type": "code",
      "source": "#creating bins for both\nselected_porto['min_nights_bin'] = pd.cut(selected_porto['minimum_nights'], bins=[0, 3, 7, 30, 701], labels=False)\nselected_porto['max_nights_bin'] = pd.cut(selected_porto['maximum_nights'], bins=[0, 7, 30, 100, 10000], labels=False)\nselected_porto.head()",
      "metadata": {
        "trusted": true
      },
      "outputs": [
        {
          "execution_count": 66,
          "output_type": "execute_result",
          "data": {
            "text/plain": "         room_type  latitude  longitude  accommodates  bedrooms  \\\n0  entire_home_apt  38.69750   -9.19768             3       1.0   \n1  entire_home_apt  38.71241   -9.12706             3       1.0   \n2  entire_home_apt  38.71156   -9.12987             4       1.0   \n3  entire_home_apt  38.71108   -9.15979            16       9.0   \n4  entire_home_apt  38.74606   -9.15358             3       1.0   \n\n   host_total_listings_count  maximum_nights  minimum_nights  \\\n0                        2.0             365               4   \n1                        2.0              14               2   \n2                        1.0            1125               2   \n3                        2.0            1125               2   \n4                        2.0             365               6   \n\n   number_of_reviews  review_scores_rating  ...  room_entire_home_apt  \\\n0                 77                  4.52  ...                  True   \n1                215                  4.82  ...                  True   \n2                407                  4.77  ...                  True   \n3                140                  4.95  ...                  True   \n4                 61                  4.57  ...                  True   \n\n   room_hotel_room  room_private_room  room_shared_room  distance_to_center  \\\n0            False              False             False            5.767489   \n1            False              False             False            1.528748   \n2            False              False             False            1.447601   \n3            False              False             False            2.171810   \n4            False              False             False            2.917929   \n\n   accommodates_bin  bedrooms_bin  host_scale  min_nights_bin  max_nights_bin  \n0                 1           0.0         1.0             1.0             3.0  \n1                 1           0.0         1.0             0.0             1.0  \n2                 1           0.0         0.0             0.0             3.0  \n3                 4           4.0         1.0             0.0             3.0  \n4                 1           0.0         1.0             1.0             3.0  \n\n[5 rows x 21 columns]",
            "text/html": "<div>\n<style scoped>\n    .dataframe tbody tr th:only-of-type {\n        vertical-align: middle;\n    }\n\n    .dataframe tbody tr th {\n        vertical-align: top;\n    }\n\n    .dataframe thead th {\n        text-align: right;\n    }\n</style>\n<table border=\"1\" class=\"dataframe\">\n  <thead>\n    <tr style=\"text-align: right;\">\n      <th></th>\n      <th>room_type</th>\n      <th>latitude</th>\n      <th>longitude</th>\n      <th>accommodates</th>\n      <th>bedrooms</th>\n      <th>host_total_listings_count</th>\n      <th>maximum_nights</th>\n      <th>minimum_nights</th>\n      <th>number_of_reviews</th>\n      <th>review_scores_rating</th>\n      <th>...</th>\n      <th>room_entire_home_apt</th>\n      <th>room_hotel_room</th>\n      <th>room_private_room</th>\n      <th>room_shared_room</th>\n      <th>distance_to_center</th>\n      <th>accommodates_bin</th>\n      <th>bedrooms_bin</th>\n      <th>host_scale</th>\n      <th>min_nights_bin</th>\n      <th>max_nights_bin</th>\n    </tr>\n  </thead>\n  <tbody>\n    <tr>\n      <th>0</th>\n      <td>entire_home_apt</td>\n      <td>38.69750</td>\n      <td>-9.19768</td>\n      <td>3</td>\n      <td>1.0</td>\n      <td>2.0</td>\n      <td>365</td>\n      <td>4</td>\n      <td>77</td>\n      <td>4.52</td>\n      <td>...</td>\n      <td>True</td>\n      <td>False</td>\n      <td>False</td>\n      <td>False</td>\n      <td>5.767489</td>\n      <td>1</td>\n      <td>0.0</td>\n      <td>1.0</td>\n      <td>1.0</td>\n      <td>3.0</td>\n    </tr>\n    <tr>\n      <th>1</th>\n      <td>entire_home_apt</td>\n      <td>38.71241</td>\n      <td>-9.12706</td>\n      <td>3</td>\n      <td>1.0</td>\n      <td>2.0</td>\n      <td>14</td>\n      <td>2</td>\n      <td>215</td>\n      <td>4.82</td>\n      <td>...</td>\n      <td>True</td>\n      <td>False</td>\n      <td>False</td>\n      <td>False</td>\n      <td>1.528748</td>\n      <td>1</td>\n      <td>0.0</td>\n      <td>1.0</td>\n      <td>0.0</td>\n      <td>1.0</td>\n    </tr>\n    <tr>\n      <th>2</th>\n      <td>entire_home_apt</td>\n      <td>38.71156</td>\n      <td>-9.12987</td>\n      <td>4</td>\n      <td>1.0</td>\n      <td>1.0</td>\n      <td>1125</td>\n      <td>2</td>\n      <td>407</td>\n      <td>4.77</td>\n      <td>...</td>\n      <td>True</td>\n      <td>False</td>\n      <td>False</td>\n      <td>False</td>\n      <td>1.447601</td>\n      <td>1</td>\n      <td>0.0</td>\n      <td>0.0</td>\n      <td>0.0</td>\n      <td>3.0</td>\n    </tr>\n    <tr>\n      <th>3</th>\n      <td>entire_home_apt</td>\n      <td>38.71108</td>\n      <td>-9.15979</td>\n      <td>16</td>\n      <td>9.0</td>\n      <td>2.0</td>\n      <td>1125</td>\n      <td>2</td>\n      <td>140</td>\n      <td>4.95</td>\n      <td>...</td>\n      <td>True</td>\n      <td>False</td>\n      <td>False</td>\n      <td>False</td>\n      <td>2.171810</td>\n      <td>4</td>\n      <td>4.0</td>\n      <td>1.0</td>\n      <td>0.0</td>\n      <td>3.0</td>\n    </tr>\n    <tr>\n      <th>4</th>\n      <td>entire_home_apt</td>\n      <td>38.74606</td>\n      <td>-9.15358</td>\n      <td>3</td>\n      <td>1.0</td>\n      <td>2.0</td>\n      <td>365</td>\n      <td>6</td>\n      <td>61</td>\n      <td>4.57</td>\n      <td>...</td>\n      <td>True</td>\n      <td>False</td>\n      <td>False</td>\n      <td>False</td>\n      <td>2.917929</td>\n      <td>1</td>\n      <td>0.0</td>\n      <td>1.0</td>\n      <td>1.0</td>\n      <td>3.0</td>\n    </tr>\n  </tbody>\n</table>\n<p>5 rows × 21 columns</p>\n</div>"
          },
          "metadata": {}
        }
      ],
      "execution_count": 66
    },
    {
      "cell_type": "code",
      "source": "selected_porto['number_of_reviews'].agg(['min', 'max'])",
      "metadata": {
        "trusted": true
      },
      "outputs": [
        {
          "execution_count": 67,
          "output_type": "execute_result",
          "data": {
            "text/plain": "min       0\nmax    1657\nName: number_of_reviews, dtype: int64"
          },
          "metadata": {}
        }
      ],
      "execution_count": 67
    },
    {
      "cell_type": "code",
      "source": "# Drop rows where review_scores_rating is missing\nselected_porto = selected_porto.dropna(subset=['number_of_reviews'])\nselected_porto['review_number'] = pd.cut(selected_porto['number_of_reviews'], bins=[0, 100, 200, 300 , 400, 500, 600, 2612], labels=False)\nselected_porto.head()",
      "metadata": {
        "trusted": true,
        "scrolled": true
      },
      "outputs": [
        {
          "execution_count": 68,
          "output_type": "execute_result",
          "data": {
            "text/plain": "         room_type  latitude  longitude  accommodates  bedrooms  \\\n0  entire_home_apt  38.69750   -9.19768             3       1.0   \n1  entire_home_apt  38.71241   -9.12706             3       1.0   \n2  entire_home_apt  38.71156   -9.12987             4       1.0   \n3  entire_home_apt  38.71108   -9.15979            16       9.0   \n4  entire_home_apt  38.74606   -9.15358             3       1.0   \n\n   host_total_listings_count  maximum_nights  minimum_nights  \\\n0                        2.0             365               4   \n1                        2.0              14               2   \n2                        1.0            1125               2   \n3                        2.0            1125               2   \n4                        2.0             365               6   \n\n   number_of_reviews  review_scores_rating  ...  room_hotel_room  \\\n0                 77                  4.52  ...            False   \n1                215                  4.82  ...            False   \n2                407                  4.77  ...            False   \n3                140                  4.95  ...            False   \n4                 61                  4.57  ...            False   \n\n   room_private_room  room_shared_room  distance_to_center  accommodates_bin  \\\n0              False             False            5.767489                 1   \n1              False             False            1.528748                 1   \n2              False             False            1.447601                 1   \n3              False             False            2.171810                 4   \n4              False             False            2.917929                 1   \n\n   bedrooms_bin  host_scale  min_nights_bin  max_nights_bin  review_number  \n0           0.0         1.0             1.0             3.0            0.0  \n1           0.0         1.0             0.0             1.0            2.0  \n2           0.0         0.0             0.0             3.0            4.0  \n3           4.0         1.0             0.0             3.0            1.0  \n4           0.0         1.0             1.0             3.0            0.0  \n\n[5 rows x 22 columns]",
            "text/html": "<div>\n<style scoped>\n    .dataframe tbody tr th:only-of-type {\n        vertical-align: middle;\n    }\n\n    .dataframe tbody tr th {\n        vertical-align: top;\n    }\n\n    .dataframe thead th {\n        text-align: right;\n    }\n</style>\n<table border=\"1\" class=\"dataframe\">\n  <thead>\n    <tr style=\"text-align: right;\">\n      <th></th>\n      <th>room_type</th>\n      <th>latitude</th>\n      <th>longitude</th>\n      <th>accommodates</th>\n      <th>bedrooms</th>\n      <th>host_total_listings_count</th>\n      <th>maximum_nights</th>\n      <th>minimum_nights</th>\n      <th>number_of_reviews</th>\n      <th>review_scores_rating</th>\n      <th>...</th>\n      <th>room_hotel_room</th>\n      <th>room_private_room</th>\n      <th>room_shared_room</th>\n      <th>distance_to_center</th>\n      <th>accommodates_bin</th>\n      <th>bedrooms_bin</th>\n      <th>host_scale</th>\n      <th>min_nights_bin</th>\n      <th>max_nights_bin</th>\n      <th>review_number</th>\n    </tr>\n  </thead>\n  <tbody>\n    <tr>\n      <th>0</th>\n      <td>entire_home_apt</td>\n      <td>38.69750</td>\n      <td>-9.19768</td>\n      <td>3</td>\n      <td>1.0</td>\n      <td>2.0</td>\n      <td>365</td>\n      <td>4</td>\n      <td>77</td>\n      <td>4.52</td>\n      <td>...</td>\n      <td>False</td>\n      <td>False</td>\n      <td>False</td>\n      <td>5.767489</td>\n      <td>1</td>\n      <td>0.0</td>\n      <td>1.0</td>\n      <td>1.0</td>\n      <td>3.0</td>\n      <td>0.0</td>\n    </tr>\n    <tr>\n      <th>1</th>\n      <td>entire_home_apt</td>\n      <td>38.71241</td>\n      <td>-9.12706</td>\n      <td>3</td>\n      <td>1.0</td>\n      <td>2.0</td>\n      <td>14</td>\n      <td>2</td>\n      <td>215</td>\n      <td>4.82</td>\n      <td>...</td>\n      <td>False</td>\n      <td>False</td>\n      <td>False</td>\n      <td>1.528748</td>\n      <td>1</td>\n      <td>0.0</td>\n      <td>1.0</td>\n      <td>0.0</td>\n      <td>1.0</td>\n      <td>2.0</td>\n    </tr>\n    <tr>\n      <th>2</th>\n      <td>entire_home_apt</td>\n      <td>38.71156</td>\n      <td>-9.12987</td>\n      <td>4</td>\n      <td>1.0</td>\n      <td>1.0</td>\n      <td>1125</td>\n      <td>2</td>\n      <td>407</td>\n      <td>4.77</td>\n      <td>...</td>\n      <td>False</td>\n      <td>False</td>\n      <td>False</td>\n      <td>1.447601</td>\n      <td>1</td>\n      <td>0.0</td>\n      <td>0.0</td>\n      <td>0.0</td>\n      <td>3.0</td>\n      <td>4.0</td>\n    </tr>\n    <tr>\n      <th>3</th>\n      <td>entire_home_apt</td>\n      <td>38.71108</td>\n      <td>-9.15979</td>\n      <td>16</td>\n      <td>9.0</td>\n      <td>2.0</td>\n      <td>1125</td>\n      <td>2</td>\n      <td>140</td>\n      <td>4.95</td>\n      <td>...</td>\n      <td>False</td>\n      <td>False</td>\n      <td>False</td>\n      <td>2.171810</td>\n      <td>4</td>\n      <td>4.0</td>\n      <td>1.0</td>\n      <td>0.0</td>\n      <td>3.0</td>\n      <td>1.0</td>\n    </tr>\n    <tr>\n      <th>4</th>\n      <td>entire_home_apt</td>\n      <td>38.74606</td>\n      <td>-9.15358</td>\n      <td>3</td>\n      <td>1.0</td>\n      <td>2.0</td>\n      <td>365</td>\n      <td>6</td>\n      <td>61</td>\n      <td>4.57</td>\n      <td>...</td>\n      <td>False</td>\n      <td>False</td>\n      <td>False</td>\n      <td>2.917929</td>\n      <td>1</td>\n      <td>0.0</td>\n      <td>1.0</td>\n      <td>1.0</td>\n      <td>3.0</td>\n      <td>0.0</td>\n    </tr>\n  </tbody>\n</table>\n<p>5 rows × 22 columns</p>\n</div>"
          },
          "metadata": {}
        }
      ],
      "execution_count": 68
    },
    {
      "cell_type": "markdown",
      "source": "OLS",
      "metadata": {}
    },
    {
      "cell_type": "code",
      "source": "# Features and Target\nX = selected_porto.drop('price', axis=1)\ny = selected_porto['price']\n\n# Keep only numeric variables\nX = X.select_dtypes(include=[np.number])\n\n# Filter to Drop NaNs for Required Columns\nrequired_cols = [\n    'distance_to_center', 'review_scores_rating', 'bedrooms_bin',\n    'accommodates_bin', 'min_nights_bin', 'max_nights_bin', 'host_scale', 'review_number'\n]\n\nvalid_index = X[required_cols].dropna().index.intersection(y.dropna().index)\nX = X.loc[valid_index]\ny = y.loc[valid_index]\n\n# Add constant for OLS intercept\nX = sm.add_constant(X)\n\n# Train/Test Split\nX_train, X_test, y_train, y_test = train_test_split(X, y, test_size=0.2, random_state=42)\n\n# Define Variables for Each Model\nmodel1_vars = ['const', 'distance_to_center', 'review_scores_rating', 'bedrooms_bin']\nmodel2_vars = model1_vars + ['accommodates_bin', 'max_nights_bin', 'min_nights_bin']\nmodel3_vars = model2_vars + ['host_scale', 'review_number']\n\n# Step 6: Fit the Models\nmodel1 = sm.OLS(y_train, X_train[model1_vars]).fit()\nmodel2 = sm.OLS(y_train, X_train[model2_vars]).fit()\nmodel3 = sm.OLS(y_train, X_train[model3_vars]).fit()\n\n# Display Model Comparison Table\nsummary = summary_col(\n    results=[model1, model2, model3],\n    float_format='%0.3f',\n    stars=True,\n    model_names=['Model 1', 'Model 2', 'Model 3'],\n    info_dict={\n        'R-squared': lambda x: f\"{x.rsquared:.3f}\",\n        'Adj. R-squared': lambda x: f\"{x.rsquared_adj:.3f}\",\n        'BIC': lambda x: f\"{x.bic:.0f}\",\n        'Observations': lambda x: f\"{int(x.nobs)}\"\n    }\n)\n\nprint(summary)\n",
      "metadata": {
        "trusted": true
      },
      "outputs": [
        {
          "name": "stdout",
          "output_type": "stream",
          "text": "\n===================================================\n                      Model 1   Model 2   Model 3  \n---------------------------------------------------\nconst                -59.473*  -86.461** -99.087***\n                     (33.599)  (35.942)  (37.082)  \ndistance_to_center   0.253     0.177     0.055     \n                     (0.211)   (0.211)   (0.219)   \nreview_scores_rating 28.107*** 27.795*** 31.564*** \n                     (7.221)   (7.257)   (7.399)   \nbedrooms_bin         63.801*** 38.131*** 37.703*** \n                     (3.039)   (5.123)   (5.125)   \naccommodates_bin               29.753*** 30.380*** \n                               (4.895)   (4.899)   \nmax_nights_bin                 5.425     4.102     \n                               (3.789)   (3.828)   \nmin_nights_bin                 12.176**  10.751**  \n                               (5.310)   (5.351)   \nhost_scale                               2.214     \n                                         (2.672)   \nreview_number                            -8.978*** \n                                         (3.170)   \nR-squared            0.033     0.036     0.037     \nR-squared Adj.       0.033     0.036     0.036     \nAdj. R-squared       0.033     0.036     0.036     \nBIC                  208534    208518    208529    \nObservations         14312     14312     14312     \nR-squared            0.033     0.036     0.037     \n===================================================\nStandard errors in parentheses.\n* p<.1, ** p<.05, ***p<.01\n"
        }
      ],
      "execution_count": 69
    },
    {
      "cell_type": "markdown",
      "source": "LASSO",
      "metadata": {}
    },
    {
      "cell_type": "code",
      "source": "# Drop rows with NaNs\nvalid_index = X.dropna().index.intersection(y.dropna().index)\nX = X.loc[valid_index]\ny = y.loc[valid_index]\n\n# Train/Test Split\nX_train, X_test, y_train, y_test = train_test_split(X, y, test_size=0.2, random_state=42)\n",
      "metadata": {
        "trusted": true
      },
      "outputs": [],
      "execution_count": 71
    },
    {
      "cell_type": "code",
      "source": "\n# Build LASSO Pipeline\nlasso_pipeline = Pipeline([\n    ('scaler', StandardScaler()),\n    ('lasso', LassoCV(cv=5, random_state=42))\n])\n\n# Fit LASSO\nlasso_pipeline.fit(X_train, y_train)\n\n# Get Best Alpha and Coefficients\nbest_alpha = lasso_pipeline.named_steps['lasso'].alpha_\nlasso_coefficients = lasso_pipeline.named_steps['lasso'].coef_\n\nprint(f\"Best alpha (lambda): {best_alpha:.4f}\")\nprint(\"\\nLASSO Coefficients:\")\nfor feature, coef in zip(X.columns, lasso_coefficients):\n    print(f\"{feature}: {coef:.4f}\")\n\n# Evaluate Model\ny_pred = lasso_pipeline.predict(X_test)\nr2 = r2_score(y_test, y_pred)\nrmse = np.sqrt(mean_squared_error(y_test, y_pred))\n\nprint(f\"\\nTest R²: {r2:.4f}\")\nprint(f\"Test RMSE: {rmse:.2f}\")",
      "metadata": {
        "trusted": true,
        "scrolled": true
      },
      "outputs": [
        {
          "name": "stdout",
          "output_type": "stream",
          "text": "Best alpha (lambda): 28.1307\n\nLASSO Coefficients:\nconst: 0.0000\nlatitude: 0.0000\nlongitude: -0.0000\naccommodates: 28.4698\nbedrooms: 15.5752\nhost_total_listings_count: -0.0000\nmaximum_nights: 0.0000\nminimum_nights: 18.4488\nnumber_of_reviews: -0.0000\nreview_scores_rating: 0.0000\ndistance_to_center: 0.0000\naccommodates_bin: 0.0000\nbedrooms_bin: 0.0000\nhost_scale: -0.0000\nmin_nights_bin: -0.0000\nmax_nights_bin: 0.0000\nreview_number: -0.0000\n\nTest R²: 0.2285\nTest RMSE: 107.16\n"
        }
      ],
      "execution_count": 72
    },
    {
      "cell_type": "markdown",
      "source": "random forest",
      "metadata": {}
    },
    {
      "cell_type": "code",
      "source": "# Select Relevant Features\nselected_features = [\n    'distance_to_center', 'review_scores_rating', 'bedrooms_bin',\n    'accommodates_bin', 'min_nights_bin', 'max_nights_bin',\n    'host_scale', 'review_number'\n]\n\nX = selected_dec[selected_features]\ny = selected_dec['price']\n\n# Drop NaNs and Split Data\nvalid_index = X.dropna().index.intersection(y.dropna().index)\nX = X.loc[valid_index]\ny = y.loc[valid_index]\n\nX_train, X_test, y_train, y_test = train_test_split(X, y, test_size=0.2, random_state=42)\n\n# Train Random Forest\nrf_model = RandomForestRegressor(n_estimators=100, random_state=42)\nrf_model.fit(X_train, y_train)\n\n# Predict and Evaluate\ny_pred = rf_model.predict(X_test)\nr2 = r2_score(y_test, y_pred)\nrmse = np.sqrt(mean_squared_error(y_test, y_pred))\n\nprint(f\"Random Forest Test R²: {r2:.4f}\")\nprint(f\"Random Forest Test RMSE: {rmse:.2f}\")\n\n# Show Feature Importances\nimportance_df = pd.DataFrame({\n    'Feature': X.columns,\n    'Importance': rf_model.feature_importances_\n}).sort_values(by='Importance', ascending=False)\n\nprint(\"\\nTop Features by Importance:\")\nprint(importance_df.head(10))\n",
      "metadata": {
        "trusted": true
      },
      "outputs": [
        {
          "name": "stdout",
          "output_type": "stream",
          "text": "Random Forest Test R²: -1.1270\nRandom Forest Test RMSE: 177.94\n\nTop Features by Importance:\n                Feature  Importance\n0    distance_to_center    0.696387\n1  review_scores_rating    0.076388\n6            host_scale    0.053980\n2          bedrooms_bin    0.046374\n4        min_nights_bin    0.044719\n3      accommodates_bin    0.044574\n5        max_nights_bin    0.021421\n7         review_number    0.016157\n"
        }
      ],
      "execution_count": 74
    },
    {
      "cell_type": "markdown",
      "source": "XGBOOST",
      "metadata": {}
    },
    {
      "cell_type": "code",
      "source": "# Keep only numeric columns and drop NaNs\nX = X.select_dtypes(include='number')\nvalid_index = X.dropna().index.intersection(y.dropna().index)\nX = X.loc[valid_index]\ny = y.loc[valid_index]\n\n# Train/Test Split\nX_train, X_test, y_train, y_test = train_test_split(X, y, test_size=0.2, random_state=42)\n\n# Initialize and Fit XGBoost Regressor\nxgb_model = xgb.XGBRegressor(\n    n_estimators=100,\n    learning_rate=0.1,\n    max_depth=5,\n    random_state=42,\n    verbosity=0\n)\n\nxgb_model.fit(X_train, y_train)\n\n# Predict and Evaluate\ny_pred = xgb_model.predict(X_test)\nr2 = r2_score(y_test, y_pred)\nrmse = np.sqrt(mean_squared_error(y_test, y_pred))\n\nprint(f\"XGBoost Test R²: {r2:.4f}\")\nprint(f\"XGBoost Test RMSE: {rmse:.2f}\")\n\n# Feature Importance\nimportance_df = pd.DataFrame({\n    'Feature': X.columns,\n    'Importance': xgb_model.feature_importances_\n}).sort_values(by='Importance', ascending=False)\n\nprint(\"\\nTop Features by Importance:\")\nprint(importance_df.head(10))\n",
      "metadata": {
        "trusted": true
      },
      "outputs": [
        {
          "name": "stdout",
          "output_type": "stream",
          "text": "XGBoost Test R²: -0.3001\nXGBoost Test RMSE: 139.11\n\nTop Features by Importance:\n                Feature  Importance\n4        min_nights_bin    0.222010\n0    distance_to_center    0.205649\n2          bedrooms_bin    0.158801\n5        max_nights_bin    0.122269\n1  review_scores_rating    0.091055\n6            host_scale    0.080590\n7         review_number    0.067833\n3      accommodates_bin    0.051792\n"
        }
      ],
      "execution_count": 75
    },
    {
      "cell_type": "markdown",
      "source": "LIGHT BGM",
      "metadata": {}
    },
    {
      "cell_type": "code",
      "source": "# Fit LightGBM Regressor\nlgb_model = lgb.LGBMRegressor(n_estimators=100, learning_rate=0.1, random_state=42)\nlgb_model.fit(X_train, y_train)\n\n# Predict and Evaluate\ny_pred = lgb_model.predict(X_test)\nr2 = r2_score(y_test, y_pred)\nrmse = np.sqrt(mean_squared_error(y_test, y_pred))\n\nprint(f\"LightGBM Test R²: {r2:.4f}\")\nprint(f\"LightGBM Test RMSE: {rmse:.2f}\")\n\n# Feature Importance\nimportance_df = pd.DataFrame({\n    'Feature': X.columns,\n    'Importance': lgb_model.feature_importances_\n}).sort_values(by='Importance', ascending=False)\n\nprint(\"\\nTop Features by Importance:\")\nprint(importance_df.head(10))\n",
      "metadata": {
        "trusted": true
      },
      "outputs": [
        {
          "name": "stdout",
          "output_type": "stream",
          "text": "[LightGBM] [Info] Auto-choosing row-wise multi-threading, the overhead of testing was 0.000800 seconds.\nYou can set `force_row_wise=true` to remove the overhead.\nAnd if memory is not enough, you can set `force_col_wise=true`.\n[LightGBM] [Info] Total Bins 422\n[LightGBM] [Info] Number of data points in the train set: 14312, number of used features: 8\n[LightGBM] [Info] Start training from score 119.604458\nLightGBM Test R²: -0.1506\nLightGBM Test RMSE: 130.87\n\nTop Features by Importance:\n                Feature  Importance\n0    distance_to_center        1361\n1  review_scores_rating         623\n2          bedrooms_bin         239\n4        min_nights_bin         233\n6            host_scale         195\n3      accommodates_bin         171\n7         review_number          94\n5        max_nights_bin          84\n"
        }
      ],
      "execution_count": 76
    },
    {
      "cell_type": "markdown",
      "source": "Final Analysis and Conclusions\n\nThis study developed predictive pricing models for Airbnb listings across Lisbon and Porto using five distinct machine learning approaches. The analysis yielded several key findings regarding model performance and feature importance.\n\nLinear regression models, particularly LASSO regression, demonstrated superior predictive accuracy with R² values of approximately 0.26, indicating these methods effectively captured fundamental pricing relationships. In contrast, tree-based ensemble methods including Random Forest and gradient boosting algorithms exhibited poorer performance, likely due to overfitting issues arising from the feature engineering approach.\n\nGeospatial features emerged as the most significant predictors, with distance_to_center consistently ranking as the most important variable across all models. This finding strongly supports the well-established real estate principle of location value. Secondary predictive factors included bedroom count and guest review scores, though their relative importance varied between the two cities.\n\nThe temporal validation using Lisbon's December dataset confirmed model stability over time, while the geographic validation in Porto revealed modest performance degradation (LASSO R² decreasing to 0.22). This suggests that while core pricing factors remain consistent, regional market differences warrant consideration in operational deployment.",
      "metadata": {}
    },
    {
      "cell_type": "code",
      "source": "",
      "metadata": {
        "trusted": true
      },
      "outputs": [],
      "execution_count": null
    }
  ]
}